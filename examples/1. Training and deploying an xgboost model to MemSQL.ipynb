{
 "cells": [
  {
   "cell_type": "markdown",
   "metadata": {},
   "source": [
    "### In this demo we will train a simple xgboost model and will deploy it as a UDF (user-defined function)."
   ]
  },
  {
   "cell_type": "code",
   "execution_count": 1,
   "metadata": {},
   "outputs": [],
   "source": [
    "import xgboost as xgb\n",
    "import pandas as pd\n",
    "import memsql\n",
    "import numpy as np"
   ]
  },
  {
   "cell_type": "markdown",
   "metadata": {},
   "source": [
    "### Reading data\n",
    "#### We use here the same dataset as Amazon Sagemaker [tutorial](https://aws.amazon.com/getting-started/hands-on/build-train-deploy-machine-learning-model-sagemaker/) does"
   ]
  },
  {
   "cell_type": "code",
   "execution_count": 2,
   "metadata": {},
   "outputs": [
    {
     "name": "stdout",
     "output_type": "stream",
     "text": [
      "number of rows: 41188\n"
     ]
    },
    {
     "data": {
      "text/html": [
       "<div>\n",
       "<style scoped>\n",
       "    .dataframe tbody tr th:only-of-type {\n",
       "        vertical-align: middle;\n",
       "    }\n",
       "\n",
       "    .dataframe tbody tr th {\n",
       "        vertical-align: top;\n",
       "    }\n",
       "\n",
       "    .dataframe thead th {\n",
       "        text-align: right;\n",
       "    }\n",
       "</style>\n",
       "<table border=\"1\" class=\"dataframe\">\n",
       "  <thead>\n",
       "    <tr style=\"text-align: right;\">\n",
       "      <th></th>\n",
       "      <th>age</th>\n",
       "      <th>campaign</th>\n",
       "      <th>pdays</th>\n",
       "      <th>previous</th>\n",
       "      <th>no_previous_contact</th>\n",
       "      <th>not_working</th>\n",
       "      <th>job_admin</th>\n",
       "      <th>job_blue_collar</th>\n",
       "      <th>job_entrepreneur</th>\n",
       "      <th>job_housemaid</th>\n",
       "      <th>...</th>\n",
       "      <th>day_of_week_fri</th>\n",
       "      <th>day_of_week_mon</th>\n",
       "      <th>day_of_week_thu</th>\n",
       "      <th>day_of_week_tue</th>\n",
       "      <th>day_of_week_wed</th>\n",
       "      <th>poutcome_failure</th>\n",
       "      <th>poutcome_nonexistent</th>\n",
       "      <th>poutcome_success</th>\n",
       "      <th>y_no</th>\n",
       "      <th>y_yes</th>\n",
       "    </tr>\n",
       "  </thead>\n",
       "  <tbody>\n",
       "    <tr>\n",
       "      <th>0</th>\n",
       "      <td>56</td>\n",
       "      <td>1</td>\n",
       "      <td>999</td>\n",
       "      <td>0</td>\n",
       "      <td>1</td>\n",
       "      <td>0</td>\n",
       "      <td>0</td>\n",
       "      <td>0</td>\n",
       "      <td>0</td>\n",
       "      <td>1</td>\n",
       "      <td>...</td>\n",
       "      <td>0</td>\n",
       "      <td>1</td>\n",
       "      <td>0</td>\n",
       "      <td>0</td>\n",
       "      <td>0</td>\n",
       "      <td>0</td>\n",
       "      <td>1</td>\n",
       "      <td>0</td>\n",
       "      <td>1</td>\n",
       "      <td>0</td>\n",
       "    </tr>\n",
       "    <tr>\n",
       "      <th>1</th>\n",
       "      <td>57</td>\n",
       "      <td>1</td>\n",
       "      <td>999</td>\n",
       "      <td>0</td>\n",
       "      <td>1</td>\n",
       "      <td>0</td>\n",
       "      <td>0</td>\n",
       "      <td>0</td>\n",
       "      <td>0</td>\n",
       "      <td>0</td>\n",
       "      <td>...</td>\n",
       "      <td>0</td>\n",
       "      <td>1</td>\n",
       "      <td>0</td>\n",
       "      <td>0</td>\n",
       "      <td>0</td>\n",
       "      <td>0</td>\n",
       "      <td>1</td>\n",
       "      <td>0</td>\n",
       "      <td>1</td>\n",
       "      <td>0</td>\n",
       "    </tr>\n",
       "    <tr>\n",
       "      <th>2</th>\n",
       "      <td>37</td>\n",
       "      <td>1</td>\n",
       "      <td>999</td>\n",
       "      <td>0</td>\n",
       "      <td>1</td>\n",
       "      <td>0</td>\n",
       "      <td>0</td>\n",
       "      <td>0</td>\n",
       "      <td>0</td>\n",
       "      <td>0</td>\n",
       "      <td>...</td>\n",
       "      <td>0</td>\n",
       "      <td>1</td>\n",
       "      <td>0</td>\n",
       "      <td>0</td>\n",
       "      <td>0</td>\n",
       "      <td>0</td>\n",
       "      <td>1</td>\n",
       "      <td>0</td>\n",
       "      <td>1</td>\n",
       "      <td>0</td>\n",
       "    </tr>\n",
       "    <tr>\n",
       "      <th>3</th>\n",
       "      <td>40</td>\n",
       "      <td>1</td>\n",
       "      <td>999</td>\n",
       "      <td>0</td>\n",
       "      <td>1</td>\n",
       "      <td>0</td>\n",
       "      <td>1</td>\n",
       "      <td>0</td>\n",
       "      <td>0</td>\n",
       "      <td>0</td>\n",
       "      <td>...</td>\n",
       "      <td>0</td>\n",
       "      <td>1</td>\n",
       "      <td>0</td>\n",
       "      <td>0</td>\n",
       "      <td>0</td>\n",
       "      <td>0</td>\n",
       "      <td>1</td>\n",
       "      <td>0</td>\n",
       "      <td>1</td>\n",
       "      <td>0</td>\n",
       "    </tr>\n",
       "    <tr>\n",
       "      <th>4</th>\n",
       "      <td>56</td>\n",
       "      <td>1</td>\n",
       "      <td>999</td>\n",
       "      <td>0</td>\n",
       "      <td>1</td>\n",
       "      <td>0</td>\n",
       "      <td>0</td>\n",
       "      <td>0</td>\n",
       "      <td>0</td>\n",
       "      <td>0</td>\n",
       "      <td>...</td>\n",
       "      <td>0</td>\n",
       "      <td>1</td>\n",
       "      <td>0</td>\n",
       "      <td>0</td>\n",
       "      <td>0</td>\n",
       "      <td>0</td>\n",
       "      <td>1</td>\n",
       "      <td>0</td>\n",
       "      <td>1</td>\n",
       "      <td>0</td>\n",
       "    </tr>\n",
       "  </tbody>\n",
       "</table>\n",
       "<p>5 rows × 61 columns</p>\n",
       "</div>"
      ],
      "text/plain": [
       "   age  campaign  pdays  previous  no_previous_contact  not_working  \\\n",
       "0   56         1    999         0                    1            0   \n",
       "1   57         1    999         0                    1            0   \n",
       "2   37         1    999         0                    1            0   \n",
       "3   40         1    999         0                    1            0   \n",
       "4   56         1    999         0                    1            0   \n",
       "\n",
       "   job_admin  job_blue_collar  job_entrepreneur  job_housemaid  ...  \\\n",
       "0          0                0                 0              1  ...   \n",
       "1          0                0                 0              0  ...   \n",
       "2          0                0                 0              0  ...   \n",
       "3          1                0                 0              0  ...   \n",
       "4          0                0                 0              0  ...   \n",
       "\n",
       "   day_of_week_fri  day_of_week_mon  day_of_week_thu  day_of_week_tue  \\\n",
       "0                0                1                0                0   \n",
       "1                0                1                0                0   \n",
       "2                0                1                0                0   \n",
       "3                0                1                0                0   \n",
       "4                0                1                0                0   \n",
       "\n",
       "   day_of_week_wed  poutcome_failure  poutcome_nonexistent  poutcome_success  \\\n",
       "0                0                 0                     1                 0   \n",
       "1                0                 0                     1                 0   \n",
       "2                0                 0                     1                 0   \n",
       "3                0                 0                     1                 0   \n",
       "4                0                 0                     1                 0   \n",
       "\n",
       "   y_no  y_yes  \n",
       "0     1      0  \n",
       "1     1      0  \n",
       "2     1      0  \n",
       "3     1      0  \n",
       "4     1      0  \n",
       "\n",
       "[5 rows x 61 columns]"
      ]
     },
     "execution_count": 2,
     "metadata": {},
     "output_type": "execute_result"
    }
   ],
   "source": [
    "all_data = pd.read_csv('../bank_clean.csv', index_col=0)\n",
    "print(\"number of rows:\", len(all_data.index))\n",
    "all_data.head()"
   ]
  },
  {
   "cell_type": "markdown",
   "metadata": {},
   "source": [
    "### Splitting data as 80% train set, 20% as test set."
   ]
  },
  {
   "cell_type": "code",
   "execution_count": 3,
   "metadata": {},
   "outputs": [],
   "source": [
    "train_data=all_data.sample(frac=0.8, random_state=200) #random state is a seed value\n",
    "test_data=all_data.drop(train_data.index)"
   ]
  },
  {
   "cell_type": "code",
   "execution_count": 4,
   "metadata": {},
   "outputs": [
    {
     "name": "stdout",
     "output_type": "stream",
     "text": [
      "number of rows in train set: 32950\n",
      "number of rows in  test set: 8238\n"
     ]
    }
   ],
   "source": [
    "print(\"number of rows in train set:\", len(train_data.index))\n",
    "print(\"number of rows in  test set:\", len( test_data.index))"
   ]
  },
  {
   "cell_type": "markdown",
   "metadata": {},
   "source": [
    "### Converting from pandas dataframe to NumPy matrix for the xgboost"
   ]
  },
  {
   "cell_type": "code",
   "execution_count": 5,
   "metadata": {},
   "outputs": [],
   "source": [
    "X_train = train_data.drop(['y_no', 'y_yes'], axis=1).to_numpy()\n",
    "y_train = train_data['y_yes'].to_numpy()\n",
    "X_test = test_data.drop(['y_no', 'y_yes'], axis=1).to_numpy()\n",
    "y_test = test_data['y_yes'].to_numpy()"
   ]
  },
  {
   "cell_type": "markdown",
   "metadata": {},
   "source": [
    "### Train the model"
   ]
  },
  {
   "cell_type": "code",
   "execution_count": 6,
   "metadata": {},
   "outputs": [],
   "source": [
    "clf = xgb.XGBClassifier()\n",
    "clf.fit(X_train, y_train, eval_set=[(X_test, y_test)], eval_metric='error', early_stopping_rounds=10, verbose=0);"
   ]
  },
  {
   "cell_type": "markdown",
   "metadata": {},
   "source": [
    "### Lets inspect the model\n",
    "We inspect here only the last tree that was built."
   ]
  },
  {
   "cell_type": "code",
   "execution_count": 7,
   "metadata": {
    "scrolled": true
   },
   "outputs": [
    {
     "name": "stdout",
     "output_type": "stream",
     "text": [
      "0:[f0<82.5] yes=1,no=2,missing=1\n",
      "\t1:[f0<81.5] yes=3,no=4,missing=3\n",
      "\t\t3:[f21<0.5] yes=7,no=8,missing=7\n",
      "\t\t\t7:[f0<49.5] yes=15,no=16,missing=15\n",
      "\t\t\t\t15:[f22<0.5] yes=21,no=22,missing=21\n",
      "\t\t\t\t\t21:[f0<48.5] yes=31,no=32,missing=31\n",
      "\t\t\t\t\t\t31:leaf=-0.000693206384\n",
      "\t\t\t\t\t\t32:leaf=-0.098523736\n",
      "\t\t\t\t\t22:[f42<0.5] yes=33,no=34,missing=33\n",
      "\t\t\t\t\t\t33:leaf=-0.0812441334\n",
      "\t\t\t\t\t\t34:leaf=0.0961404517\n",
      "\t\t\t\t16:[f19<0.5] yes=23,no=24,missing=23\n",
      "\t\t\t\t\t23:[f55<0.5] yes=35,no=36,missing=35\n",
      "\t\t\t\t\t\t35:leaf=-0.051924251\n",
      "\t\t\t\t\t\t36:leaf=0.0439539962\n",
      "\t\t\t\t\t24:[f0<52.5] yes=37,no=38,missing=37\n",
      "\t\t\t\t\t\t37:leaf=0.0684938058\n",
      "\t\t\t\t\t\t38:leaf=0.0101644313\n",
      "\t\t\t8:[f1<1.5] yes=17,no=18,missing=17\n",
      "\t\t\t\t17:[f0<35.5] yes=25,no=26,missing=25\n",
      "\t\t\t\t\t25:leaf=0.0301328655\n",
      "\t\t\t\t\t26:leaf=0.411336005\n",
      "\t\t\t\t18:[f3<0.5] yes=27,no=28,missing=27\n",
      "\t\t\t\t\t27:leaf=-0.119725056\n",
      "\t\t\t\t\t28:leaf=0.081386067\n",
      "\t\t4:[f22<0.5] yes=9,no=10,missing=9\n",
      "\t\t\t9:leaf=-0.0818154588\n",
      "\t\t\t10:leaf=0.422050208\n",
      "\t2:[f33<0.5] yes=5,no=6,missing=5\n",
      "\t\t5:[f54<0.5] yes=11,no=12,missing=11\n",
      "\t\t\t11:[f30<0.5] yes=19,no=20,missing=19\n",
      "\t\t\t\t19:leaf=-0.0101082586\n",
      "\t\t\t\t20:[f1<2.5] yes=29,no=30,missing=29\n",
      "\t\t\t\t\t29:leaf=-0.427358001\n",
      "\t\t\t\t\t30:leaf=-0.0740065202\n",
      "\t\t\t12:leaf=0.0640806556\n",
      "\t\t6:[f19<0.5] yes=13,no=14,missing=13\n",
      "\t\t\t13:leaf=0.274960101\n",
      "\t\t\t14:leaf=-0.0553114265\n",
      "\n"
     ]
    }
   ],
   "source": [
    "booster = clf.get_booster()\n",
    "print(booster.get_dump()[-1])"
   ]
  },
  {
   "cell_type": "markdown",
   "metadata": {},
   "source": [
    "It's hard to read model without feature names, so let's add them"
   ]
  },
  {
   "cell_type": "code",
   "execution_count": 8,
   "metadata": {},
   "outputs": [
    {
     "name": "stdout",
     "output_type": "stream",
     "text": [
      "0:[age<82.5] yes=1,no=2,missing=1\n",
      "\t1:[age<81.5] yes=3,no=4,missing=3\n",
      "\t\t3:[marital_unknown<0.5] yes=7,no=8,missing=7\n",
      "\t\t\t7:[age<49.5] yes=15,no=16,missing=15\n",
      "\t\t\t\t15:[education_basic_4y<0.5] yes=21,no=22,missing=21\n",
      "\t\t\t\t\t21:[age<48.5] yes=31,no=32,missing=31\n",
      "\t\t\t\t\t\t31:leaf=-0.000693206384\n",
      "\t\t\t\t\t\t32:leaf=-0.098523736\n",
      "\t\t\t\t\t22:[month_aug<0.5] yes=33,no=34,missing=33\n",
      "\t\t\t\t\t\t33:leaf=-0.0812441334\n",
      "\t\t\t\t\t\t34:leaf=0.0961404517\n",
      "\t\t\t\t16:[marital_married<0.5] yes=23,no=24,missing=23\n",
      "\t\t\t\t\t23:[day_of_week_wed<0.5] yes=35,no=36,missing=35\n",
      "\t\t\t\t\t\t35:leaf=-0.051924251\n",
      "\t\t\t\t\t\t36:leaf=0.0439539962\n",
      "\t\t\t\t\t24:[age<52.5] yes=37,no=38,missing=37\n",
      "\t\t\t\t\t\t37:leaf=0.0684938058\n",
      "\t\t\t\t\t\t38:leaf=0.0101644313\n",
      "\t\t\t8:[campaign<1.5] yes=17,no=18,missing=17\n",
      "\t\t\t\t17:[age<35.5] yes=25,no=26,missing=25\n",
      "\t\t\t\t\t25:leaf=0.0301328655\n",
      "\t\t\t\t\t26:leaf=0.411336005\n",
      "\t\t\t\t18:[previous<0.5] yes=27,no=28,missing=27\n",
      "\t\t\t\t\t27:leaf=-0.119725056\n",
      "\t\t\t\t\t28:leaf=0.081386067\n",
      "\t\t4:[education_basic_4y<0.5] yes=9,no=10,missing=9\n",
      "\t\t\t9:leaf=-0.0818154588\n",
      "\t\t\t10:leaf=0.422050208\n",
      "\t2:[housing_no<0.5] yes=5,no=6,missing=5\n",
      "\t\t5:[day_of_week_tue<0.5] yes=11,no=12,missing=11\n",
      "\t\t\t11:[default_no<0.5] yes=19,no=20,missing=19\n",
      "\t\t\t\t19:leaf=-0.0101082586\n",
      "\t\t\t\t20:[campaign<2.5] yes=29,no=30,missing=29\n",
      "\t\t\t\t\t29:leaf=-0.427358001\n",
      "\t\t\t\t\t30:leaf=-0.0740065202\n",
      "\t\t\t12:leaf=0.0640806556\n",
      "\t\t6:[marital_married<0.5] yes=13,no=14,missing=13\n",
      "\t\t\t13:leaf=0.274960101\n",
      "\t\t\t14:leaf=-0.0553114265\n",
      "\n"
     ]
    }
   ],
   "source": [
    "booster.feature_names = list(train_data.drop(['y_yes', 'y_no'], axis=1).columns)\n",
    "print(booster.get_dump()[-1])"
   ]
  },
  {
   "cell_type": "markdown",
   "metadata": {},
   "source": [
    "### Connect to memsql (look at README for better understanding how to create MemSQL host)"
   ]
  },
  {
   "cell_type": "code",
   "execution_count": 9,
   "metadata": {},
   "outputs": [],
   "source": [
    "from memsql.common import database\n",
    "memsql_host=\"YOUR MEMSQL HOST HERE\"\n",
    "memsql_port=3306  # YOUR MEMSQL PORT HERE\n",
    "memsql_user=\"YOUR USERNAME HERE\"\n",
    "memsql_password=\"YOUR PASSWORD HERE\"\n",
    "\n",
    "memsql_conn = database.connect(\n",
    "    host=memsql_host, port=memsql_port, \n",
    "    user=memsql_user, password=memsql_password)\n",
    "\n",
    "memsql_conn.query('CREATE DATABASE IF NOT EXISTS testsm')\n",
    "memsql_conn.query('USE testsm');"
   ]
  },
  {
   "cell_type": "markdown",
   "metadata": {},
   "source": [
    "### Deploy model"
   ]
  },
  {
   "cell_type": "code",
   "execution_count": 10,
   "metadata": {},
   "outputs": [],
   "source": [
    "import lib.memsql_udf as udf_tool\n",
    "udf_tool.upload_xgb_to_memsql(booster, memsql_conn, 'model1', allow_overwrite=True)"
   ]
  },
  {
   "cell_type": "code",
   "execution_count": 11,
   "metadata": {
    "scrolled": true
   },
   "outputs": [
    {
     "data": {
      "text/html": [
       "<div>\n",
       "<style scoped>\n",
       "    .dataframe tbody tr th:only-of-type {\n",
       "        vertical-align: middle;\n",
       "    }\n",
       "\n",
       "    .dataframe tbody tr th {\n",
       "        vertical-align: top;\n",
       "    }\n",
       "\n",
       "    .dataframe thead th {\n",
       "        text-align: right;\n",
       "    }\n",
       "</style>\n",
       "<table border=\"1\" class=\"dataframe\">\n",
       "  <thead>\n",
       "    <tr style=\"text-align: right;\">\n",
       "      <th></th>\n",
       "      <th>Functions_in_testsm (model1_%)</th>\n",
       "      <th>Function Type</th>\n",
       "      <th>Definer</th>\n",
       "    </tr>\n",
       "  </thead>\n",
       "  <tbody>\n",
       "    <tr>\n",
       "      <th>0</th>\n",
       "      <td>model1_tree0</td>\n",
       "      <td>User Defined Function</td>\n",
       "      <td>admin@%</td>\n",
       "    </tr>\n",
       "    <tr>\n",
       "      <th>1</th>\n",
       "      <td>model1_tree1</td>\n",
       "      <td>User Defined Function</td>\n",
       "      <td>admin@%</td>\n",
       "    </tr>\n",
       "    <tr>\n",
       "      <th>2</th>\n",
       "      <td>model1_tree10</td>\n",
       "      <td>User Defined Function</td>\n",
       "      <td>admin@%</td>\n",
       "    </tr>\n",
       "    <tr>\n",
       "      <th>3</th>\n",
       "      <td>model1_tree11</td>\n",
       "      <td>User Defined Function</td>\n",
       "      <td>admin@%</td>\n",
       "    </tr>\n",
       "    <tr>\n",
       "      <th>4</th>\n",
       "      <td>model1_tree12</td>\n",
       "      <td>User Defined Function</td>\n",
       "      <td>admin@%</td>\n",
       "    </tr>\n",
       "  </tbody>\n",
       "</table>\n",
       "</div>"
      ],
      "text/plain": [
       "  Functions_in_testsm (model1_%)          Function Type  Definer\n",
       "0                   model1_tree0  User Defined Function  admin@%\n",
       "1                   model1_tree1  User Defined Function  admin@%\n",
       "2                  model1_tree10  User Defined Function  admin@%\n",
       "3                  model1_tree11  User Defined Function  admin@%\n",
       "4                  model1_tree12  User Defined Function  admin@%"
      ]
     },
     "execution_count": 11,
     "metadata": {},
     "output_type": "execute_result"
    }
   ],
   "source": [
    "rows = memsql_conn.query(\"SHOW FUNCTIONS LIKE 'model1_%'\")\n",
    "functions_df = pd.DataFrame([dict(r) for r in rows])\n",
    "functions_df.head()"
   ]
  },
  {
   "cell_type": "markdown",
   "metadata": {},
   "source": [
    "### LOAD data into the table"
   ]
  },
  {
   "cell_type": "code",
   "execution_count": 12,
   "metadata": {},
   "outputs": [],
   "source": [
    "import lib.memsql_csv as csv_tool\n",
    "memsql_conn.query(\"DROP TABLE IF EXISTS bank\")\n",
    "csv_tool.load_csv_to_table(\"../bank_clean.csv\", \"bank\", [\"id\"] + list(all_data.columns), memsql_conn)"
   ]
  },
  {
   "cell_type": "markdown",
   "metadata": {},
   "source": [
    "### Let's select a few rows of data to predict"
   ]
  },
  {
   "cell_type": "code",
   "execution_count": 13,
   "metadata": {},
   "outputs": [],
   "source": [
    "rows = memsql_conn.query(f\"SELECT {(' ,').join(booster.feature_names)} FROM bank ORDER BY id LIMIT 10;\")\n",
    "arr = np.array([list(row.values()) for row in rows]);"
   ]
  },
  {
   "cell_type": "markdown",
   "metadata": {},
   "source": [
    "### Let's first predict using our UDF "
   ]
  },
  {
   "cell_type": "code",
   "execution_count": 14,
   "metadata": {},
   "outputs": [
    {
     "name": "stdout",
     "output_type": "stream",
     "text": [
      "0.0268150092913469\n",
      "0.024671236979178977\n",
      "0.0273293839174817\n",
      "0.02556405448884422\n",
      "0.035877220967041476\n",
      "0.02429350499307467\n",
      "0.053079061507028985\n",
      "0.026184611219336133\n",
      "0.028962693285142605\n",
      "0.03391228325193492\n"
     ]
    }
   ],
   "source": [
    "query = f\"SELECT model1({', '.join(booster.feature_names)}) AS res FROM bank ORDER BY id LIMIT 10;\"\n",
    "res = memsql_conn.query(query)\n",
    "for predict in res:\n",
    "    print(predict['res'])"
   ]
  },
  {
   "cell_type": "markdown",
   "metadata": {},
   "source": [
    "### And compare the results with xgboost model predictions"
   ]
  },
  {
   "cell_type": "code",
   "execution_count": 15,
   "metadata": {},
   "outputs": [
    {
     "name": "stdout",
     "output_type": "stream",
     "text": [
      "0.026815016\n",
      "0.024671245\n",
      "0.027329398\n",
      "0.025564069\n",
      "0.03587723\n",
      "0.024293514\n",
      "0.053079065\n",
      "0.02618462\n",
      "0.028962703\n",
      "0.033912294\n"
     ]
    }
   ],
   "source": [
    "actual_res = booster.predict(xgb.DMatrix(arr, feature_names=booster.feature_names))\n",
    "for actual_predict in actual_res:\n",
    "    print(actual_predict)"
   ]
  }
 ],
 "metadata": {
  "kernelspec": {
   "display_name": "Python 3",
   "language": "python",
   "name": "python3"
  },
  "language_info": {
   "codemirror_mode": {
    "name": "ipython",
    "version": 3
   },
   "file_extension": ".py",
   "mimetype": "text/x-python",
   "name": "python",
   "nbconvert_exporter": "python",
   "pygments_lexer": "ipython3",
   "version": "3.7.3"
  }
 },
 "nbformat": 4,
 "nbformat_minor": 4
}
