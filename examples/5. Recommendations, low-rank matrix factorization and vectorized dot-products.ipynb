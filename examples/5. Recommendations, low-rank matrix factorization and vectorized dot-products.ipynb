{
 "cells": [
  {
   "cell_type": "markdown",
   "metadata": {},
   "source": [
    "This example show how a recommendation engine, based on matrix factorization, can be implemented in MemSQL \n",
    "\n",
    "Prerequisites\n",
    "To run code in this notebook you'll need:\n",
    "\n",
    "A MemSQL instance. You can get a free trial cloud cluster at https://portal.memsql.com/"
   ]
  },
  {
   "cell_type": "code",
   "execution_count": 1,
   "metadata": {},
   "outputs": [],
   "source": [
    "import csv\n",
    "import base64\n",
    "import struct\n",
    "from lightfm import LightFM\n",
    "from lightfm.datasets import fetch_movielens\n",
    "from memsql.common import database\n",
    "\n",
    "from lib import memsql_csv"
   ]
  },
  {
   "cell_type": "markdown",
   "metadata": {},
   "source": [
    "# Fetching dataset "
   ]
  },
  {
   "cell_type": "code",
   "execution_count": 2,
   "metadata": {},
   "outputs": [
    {
     "name": "stdout",
     "output_type": "stream",
     "text": [
      "Successfully loaded dataset\n",
      "Data shape:  (943, 1682)\n"
     ]
    }
   ],
   "source": [
    "# Load the MovieLens 100k dataset. At least 4/5 star ratings are treated as positive.\n",
    "data = fetch_movielens(min_rating=4.0)\n",
    "print(\"Successfully loaded dataset\")\n",
    "print(\"Data shape: \", data['train'].shape)"
   ]
  },
  {
   "cell_type": "markdown",
   "metadata": {},
   "source": [
    "# Matrix factorisation"
   ]
  },
  {
   "cell_type": "code",
   "execution_count": 3,
   "metadata": {},
   "outputs": [
    {
     "name": "stdout",
     "output_type": "stream",
     "text": [
      "Factorisation successful\n"
     ]
    }
   ],
   "source": [
    "# Instantiate and train the model\n",
    "model = LightFM(loss='warp')\n",
    "model.fit(data['train'], epochs=30)\n",
    "assert len(model.user_biases) == model.user_embeddings.shape[0]\n",
    "assert len(model.item_biases) == model.item_embeddings.shape[0]\n",
    "print(\"Factorisation successful\")"
   ]
  },
  {
   "cell_type": "code",
   "execution_count": 4,
   "metadata": {},
   "outputs": [
    {
     "name": "stdout",
     "output_type": "stream",
     "text": [
      "User matrix shape:  (943, 10)\n",
      "User biases count:  943\n",
      "Movie matrix shape:  (1682, 10)\n",
      "Movie biases count:  1682\n"
     ]
    }
   ],
   "source": [
    "print(\"User matrix shape: \", model.user_embeddings.shape)\n",
    "print(\"User biases count: \", len(model.user_biases))\n",
    "print(\"Movie matrix shape: \", model.item_embeddings.shape)\n",
    "print(\"Movie biases count: \", len(model.item_biases))"
   ]
  },
  {
   "cell_type": "markdown",
   "metadata": {},
   "source": [
    "# Connecting to MemSQL\n",
    "Here you will need to specify credentials for your MemSQL instance in order to connect"
   ]
  },
  {
   "cell_type": "code",
   "execution_count": 5,
   "metadata": {},
   "outputs": [],
   "source": [
    "memsql_host=\"<enter your memsql host>\"\n",
    "memsql_port=\"3306\"\n",
    "memsql_user=\"root\"\n",
    "memsql_password=\"\"\n",
    "\n",
    "memsql_conn = database.connect(\n",
    "    host=memsql_host, port=memsql_port, \n",
    "    user=memsql_user, password=memsql_password)\n",
    "\n",
    "memsql_conn.query('CREATE DATABASE IF NOT EXISTS testrec');\n",
    "memsql_conn.query('USE testrec');"
   ]
  },
  {
   "cell_type": "markdown",
   "metadata": {},
   "source": [
    "# Uploading data to MemSQL"
   ]
  },
  {
   "cell_type": "code",
   "execution_count": 6,
   "metadata": {},
   "outputs": [],
   "source": [
    "delim, lineend = ',', '\\n'"
   ]
  },
  {
   "cell_type": "code",
   "execution_count": 7,
   "metadata": {},
   "outputs": [],
   "source": [
    "with open('ex5_users.csv', mode='w') as users_file:\n",
    "    user_writer = csv.DictWriter(users_file, ['id', 'feature_vector_hex', 'feature_vector', 'bias'], \n",
    "                                     delimiter=',', lineterminator='\\n')\n",
    "    user_writer.writeheader()\n",
    "    for i in range(len(model.user_biases)):\n",
    "        features_hex = struct.pack(f'{len(model.user_embeddings[i])}f', *model.user_embeddings[i]).hex()\n",
    "        user_writer.writerow({'id': i,\n",
    "                              'feature_vector_hex': features_hex,\n",
    "                              'feature_vector': '',\n",
    "                              'bias': model.user_biases[i]\n",
    "                             })"
   ]
  },
  {
   "cell_type": "code",
   "execution_count": 8,
   "metadata": {},
   "outputs": [],
   "source": [
    "with open('ex5_movies.csv', mode='w', encoding='utf-8') as movies_file:\n",
    "    movie_writer = csv.DictWriter(movies_file, ['id', 'feature_vector_hex', 'feature_vector', 'bias'], \n",
    "                                     delimiter=',', lineterminator='\\n')\n",
    "    movie_writer.writeheader()\n",
    "    for i in range(len(model.item_biases)):\n",
    "        features_hex = struct.pack(f'{len(model.item_embeddings[i])}f', *model.item_embeddings[i]).hex()\n",
    "        movie_writer.writerow({'id': i,\n",
    "                              'feature_vector_hex': features_hex,\n",
    "                              'feature_vector': '',\n",
    "                              'bias': model.item_biases[i]\n",
    "                             })"
   ]
  },
  {
   "cell_type": "code",
   "execution_count": 9,
   "metadata": {},
   "outputs": [
    {
     "data": {
      "text/plain": [
       "943"
      ]
     },
     "execution_count": 9,
     "metadata": {},
     "output_type": "execute_result"
    }
   ],
   "source": [
    "memsql_conn.query('DROP TABLE IF EXISTS users')\n",
    "memsql_conn.query('CREATE TABLE users (id INT UNSIGNED, feature_vector_hex CHAR(200), feature_vector BLOB, bias DOUBLE)')\n",
    "memsql_csv.load_csv_to_existing_table('ex5_users.csv', 'users', memsql_conn)\n",
    "memsql_conn.query('UPDATE users SET feature_vector=UNHEX(feature_vector_hex)')"
   ]
  },
  {
   "cell_type": "code",
   "execution_count": 10,
   "metadata": {},
   "outputs": [
    {
     "data": {
      "text/plain": [
       "1682"
      ]
     },
     "execution_count": 10,
     "metadata": {},
     "output_type": "execute_result"
    }
   ],
   "source": [
    "memsql_conn.query('DROP TABLE IF EXISTS movies')\n",
    "memsql_conn.query('CREATE TABLE movies (id INT UNSIGNED, feature_vector_hex CHAR(200), feature_vector BLOB, bias DOUBLE)')\n",
    "memsql_csv.load_csv_to_existing_table('ex5_movies.csv', 'movies', memsql_conn)\n",
    "memsql_conn.query('UPDATE movies SET feature_vector=UNHEX(feature_vector_hex)')"
   ]
  },
  {
   "cell_type": "markdown",
   "metadata": {},
   "source": [
    "# Cross validation"
   ]
  },
  {
   "cell_type": "code",
   "execution_count": 11,
   "metadata": {},
   "outputs": [
    {
     "data": {
      "text/plain": [
       "[Row({'id': 99, 'score': -1.5214905691525045}),\n",
       " Row({'id': 49, 'score': -1.6062639878777538}),\n",
       " Row({'id': 55, 'score': -1.9928937136588354}),\n",
       " Row({'id': 167, 'score': -2.032031638431872}),\n",
       " Row({'id': 126, 'score': -2.1413611450991814})]"
      ]
     },
     "execution_count": 11,
     "metadata": {},
     "output_type": "execute_result"
    }
   ],
   "source": [
    "# Find first five recomendations for user with id 0 in MemSQL\n",
    "memsql_conn.query('SELECT movies.id, DOT_PRODUCT(users.feature_vector, movies.feature_vector) + users.bias + movies.bias as score from users JOIN movies WHERE users.id = 0 ORDER BY score DESC limit 5 ')"
   ]
  },
  {
   "cell_type": "code",
   "execution_count": 12,
   "metadata": {},
   "outputs": [
    {
     "name": "stdout",
     "output_type": "stream",
     "text": [
      "(99, -1.5214910507202148)\n",
      "(49, -1.6062639951705933)\n",
      "(55, -1.9928940534591675)\n",
      "(167, -2.032031536102295)\n",
      "(126, -2.1413607597351074)\n"
     ]
    }
   ],
   "source": [
    "# Find first five recomendations for user with id 0 using python module\n",
    "pred = model.predict(user_ids=[0], item_ids=list(range(len(model.item_biases))))\n",
    "print(*sorted(enumerate(pred), key=lambda it: -it[1])[:5], sep='\\n')"
   ]
  }
 ],
 "metadata": {
  "kernelspec": {
   "display_name": "Python 3",
   "language": "python",
   "name": "python3"
  },
  "language_info": {
   "codemirror_mode": {
    "name": "ipython",
    "version": 3
   },
   "file_extension": ".py",
   "mimetype": "text/x-python",
   "name": "python",
   "nbconvert_exporter": "python",
   "pygments_lexer": "ipython3",
   "version": "3.7.3"
  }
 },
 "nbformat": 4,
 "nbformat_minor": 4
}
