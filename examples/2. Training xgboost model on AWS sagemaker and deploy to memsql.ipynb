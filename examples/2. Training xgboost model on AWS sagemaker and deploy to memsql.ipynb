{
 "cells": [
  {
   "cell_type": "markdown",
   "metadata": {},
   "source": [
    "This example show how an xgboost model, trained on a AWS Sagemaker can be stored and executed in a MemSQL as a user defined function.\n",
    "\t\n",
    "### Prerequisites\n",
    "To run code in this notebook you'll need:\n",
    "* A MemSQL instance.  You can get a **free** trial cloud cluster at https://portal.memsql.com/\n",
    "* An AWS account. You can get one at https://aws.amazon.com/"
   ]
  },
  {
   "cell_type": "code",
   "execution_count": 1,
   "metadata": {},
   "outputs": [],
   "source": [
    "import os\n",
    "import boto3\n",
    "import xgboost\n",
    "import sagemaker\n",
    "import numpy as np\n",
    "import pandas as pd\n",
    "from datetime import datetime\n",
    "\n",
    "from memsql.common import database\n",
    "import lib.memsql_s3 as memsql_sagemaker\n",
    "from lib.memsql_csv import load_csv_to_table"
   ]
  },
  {
   "cell_type": "markdown",
   "metadata": {},
   "source": [
    "Instructions on how to aquire AWS credentials can be found at https://docs.aws.amazon.com/IAM/latest/UserGuide/id_credentials_access-keys.html\n",
    "\n",
    "Take into account that if you want to change your **region** you also need to update **container** accordingly. You can find a corresponding container at https://docs.aws.amazon.com/sagemaker/latest/dg/sagemaker-algo-docker-registry-paths.html"
   ]
  },
  {
   "cell_type": "code",
   "execution_count": 2,
   "metadata": {},
   "outputs": [],
   "source": [
    "AWS_PUBLIC_KEY = \"<your AWS access key>\"\n",
    "AWS_SECRET_KEY = \"<your AWS secret key>\"\n",
    "ROLE = \"<your AWS sagemaker role>\"\n",
    "\n",
    "REGION = 'eu-central-1'\n",
    "CONTAINER = '492215442770.dkr.ecr.eu-central-1.amazonaws.com/sagemaker-xgboost:1.0-1-cpu-py3'"
   ]
  },
  {
   "cell_type": "code",
   "execution_count": 3,
   "metadata": {},
   "outputs": [],
   "source": [
    "session = boto3.Session(\n",
    "    aws_access_key_id=AWS_PUBLIC_KEY,\n",
    "    aws_secret_access_key=AWS_SECRET_KEY,\n",
    "    region_name=REGION,\n",
    ")"
   ]
  },
  {
   "cell_type": "markdown",
   "metadata": {},
   "source": [
    "# Creating an S3 bucket"
   ]
  },
  {
   "cell_type": "code",
   "execution_count": 4,
   "metadata": {},
   "outputs": [
    {
     "name": "stdout",
     "output_type": "stream",
     "text": [
      "S3 bucket created successfully\n"
     ]
    }
   ],
   "source": [
    "s3 = session.resource('s3')\n",
    "try:\n",
    "    BUCKET = f'sagemaker-test-memsql-{hash(datetime.now())}'\n",
    "    if REGION != 'us-east-1':\n",
    "        s3.create_bucket(Bucket=BUCKET, CreateBucketConfiguration={ 'LocationConstraint': REGION })\n",
    "    else:\n",
    "        s3.create_bucket(Bucket=BUCKET)\n",
    "    print('S3 bucket created successfully')\n",
    "except Exception as e:\n",
    "    print('S3 error: ', e)"
   ]
  },
  {
   "cell_type": "markdown",
   "metadata": {},
   "source": [
    "# Preparing data for learning"
   ]
  },
  {
   "cell_type": "code",
   "execution_count": 5,
   "metadata": {},
   "outputs": [
    {
     "name": "stdout",
     "output_type": "stream",
     "text": [
      "Success: Data loaded into dataframe.\n"
     ]
    }
   ],
   "source": [
    "try:\n",
    "    model_data = pd.read_csv('data/bank_clean.csv',index_col=0)\n",
    "    print('Success: Data loaded into dataframe.')\n",
    "except Exception as e:\n",
    "    print('Data load error: ',e)"
   ]
  },
  {
   "cell_type": "code",
   "execution_count": 6,
   "metadata": {},
   "outputs": [
    {
     "name": "stdout",
     "output_type": "stream",
     "text": [
      "['age', 'campaign', 'pdays', 'previous', 'no_previous_contact', 'not_working', 'job_admin', 'job_blue_collar', 'job_entrepreneur', 'job_housemaid', 'job_management', 'job_retired', 'job_self_employed', 'job_services', 'job_student', 'job_technician', 'job_unemployed', 'job_unknown', 'marital_divorced', 'marital_married', 'marital_single', 'marital_unknown', 'education_basic_4y', 'education_basic_6y', 'education_basic_9y', 'education_high_school', 'education_illiterate', 'education_professional_course', 'education_university_degree', 'education_unknown', 'default_no', 'default_unknown', 'default_yes', 'housing_no', 'housing_unknown', 'housing_yes', 'loan_no', 'loan_unknown', 'loan_yes', 'contact_cellular', 'contact_telephone', 'month_apr', 'month_aug', 'month_dec', 'month_jul', 'month_jun', 'month_mar', 'month_may', 'month_nov', 'month_oct', 'month_sep', 'day_of_week_fri', 'day_of_week_mon', 'day_of_week_thu', 'day_of_week_tue', 'day_of_week_wed', 'poutcome_failure', 'poutcome_nonexistent', 'poutcome_success']\n"
     ]
    }
   ],
   "source": [
    "features = list(model_data.drop(['y_yes', 'y_no'], axis=1).columns)\n",
    "print(features)"
   ]
  },
  {
   "cell_type": "code",
   "execution_count": 7,
   "metadata": {},
   "outputs": [],
   "source": [
    "train_data, test_data = np.split(model_data.sample(frac=1, random_state=1729), [int(0.7 * len(model_data))])"
   ]
  },
  {
   "cell_type": "code",
   "execution_count": 8,
   "metadata": {
    "scrolled": true
   },
   "outputs": [
    {
     "name": "stderr",
     "output_type": "stream",
     "text": [
      "'s3_input' class will be renamed to 'TrainingInput' in SageMaker Python SDK v2.\n"
     ]
    },
    {
     "name": "stdout",
     "output_type": "stream",
     "text": [
      "Success: Data loaded to S3 bucket\n"
     ]
    }
   ],
   "source": [
    "pd.concat([train_data['y_yes'], train_data.drop(['y_no', 'y_yes'], axis=1)], axis=1).to_csv('ex2_train.csv', index=False)\n",
    "session.resource('s3').Bucket(BUCKET).Object('train/train.csv').upload_file('ex2_train.csv')\n",
    "s3_input_train = sagemaker.s3_input(s3_data=f's3://{BUCKET}/train', content_type='csv')\n",
    "print(\"Success: Data loaded to S3 bucket\")"
   ]
  },
  {
   "cell_type": "markdown",
   "metadata": {},
   "source": [
    "# Actually Training Model"
   ]
  },
  {
   "cell_type": "code",
   "execution_count": 9,
   "metadata": {
    "scrolled": false
   },
   "outputs": [
    {
     "name": "stderr",
     "output_type": "stream",
     "text": [
      "WARNING:root:Parameter image_name will be renamed to image_uri in SageMaker Python SDK v2.\n"
     ]
    },
    {
     "name": "stdout",
     "output_type": "stream",
     "text": [
      "2020-09-30 15:34:09 Starting - Starting the training job...\n",
      "2020-09-30 15:34:11 Starting - Launching requested ML instances...\n",
      "2020-09-30 15:35:11 Starting - Preparing the instances for training......\n",
      "2020-09-30 15:36:21 Downloading - Downloading input data\n",
      "2020-09-30 15:36:21 Training - Downloading the training image...\n",
      "2020-09-30 15:37:07 Uploading - Uploading generated training model\u001b[34mINFO:sagemaker-containers:Imported framework sagemaker_xgboost_container.training\u001b[0m\n",
      "\u001b[34mINFO:sagemaker-containers:Failed to parse hyperparameter objective value binary:logistic to Json.\u001b[0m\n",
      "\u001b[34mReturning the value itself\u001b[0m\n",
      "\u001b[34mINFO:sagemaker-containers:No GPUs detected (normal if no gpus installed)\u001b[0m\n",
      "\u001b[34mINFO:sagemaker_xgboost_container.training:Running XGBoost Sagemaker in algorithm mode\u001b[0m\n",
      "\u001b[34mINFO:root:Determined delimiter of CSV input is ','\u001b[0m\n",
      "\u001b[34mINFO:root:Determined delimiter of CSV input is ','\u001b[0m\n",
      "\u001b[34m[15:36:58] 28832x59 matrix with 1701088 entries loaded from /opt/ml/input/data/train?format=csv&label_column=0&delimiter=,\u001b[0m\n",
      "\u001b[34mINFO:root:Single node training.\u001b[0m\n",
      "\u001b[34mINFO:root:Train matrix has 28832 rows\u001b[0m\n",
      "\u001b[34m[15:36:58] WARNING: /workspace/src/learner.cc:328: \u001b[0m\n",
      "\u001b[34mParameters: { num_round, silent } might not be used.\n",
      "\n",
      "  This may not be accurate due to some parameters are only used in language bindings but\n",
      "  passed down to XGBoost core.  Or some parameters are not used but slip through this\n",
      "  verification. Please open an issue if you find above cases.\n",
      "\n",
      "\u001b[0m\n",
      "\u001b[34m[0]#011train-error:0.10027\u001b[0m\n",
      "\u001b[34m[1]#011train-error:0.10003\u001b[0m\n",
      "\u001b[34m[2]#011train-error:0.09902\u001b[0m\n",
      "\u001b[34m[3]#011train-error:0.09923\u001b[0m\n",
      "\u001b[34m[4]#011train-error:0.09913\u001b[0m\n",
      "\u001b[34m[5]#011train-error:0.09906\u001b[0m\n",
      "\u001b[34m[6]#011train-error:0.09888\u001b[0m\n",
      "\u001b[34m[7]#011train-error:0.09944\u001b[0m\n",
      "\u001b[34m[8]#011train-error:0.09871\u001b[0m\n",
      "\u001b[34m[9]#011train-error:0.09930\u001b[0m\n",
      "\u001b[34m[10]#011train-error:0.09933\u001b[0m\n",
      "\u001b[34m[11]#011train-error:0.09906\u001b[0m\n",
      "\u001b[34m[12]#011train-error:0.09906\u001b[0m\n",
      "\u001b[34m[13]#011train-error:0.09899\u001b[0m\n",
      "\u001b[34m[14]#011train-error:0.09909\u001b[0m\n",
      "\u001b[34m[15]#011train-error:0.09888\u001b[0m\n",
      "\u001b[34m[16]#011train-error:0.09920\u001b[0m\n",
      "\u001b[34m[17]#011train-error:0.09881\u001b[0m\n",
      "\u001b[34m[18]#011train-error:0.09902\u001b[0m\n",
      "\u001b[34m[19]#011train-error:0.09906\u001b[0m\n",
      "\u001b[34m[20]#011train-error:0.09906\u001b[0m\n",
      "\u001b[34m[21]#011train-error:0.09881\u001b[0m\n",
      "\u001b[34m[22]#011train-error:0.09888\u001b[0m\n",
      "\u001b[34m[23]#011train-error:0.09854\u001b[0m\n",
      "\u001b[34m[24]#011train-error:0.09854\u001b[0m\n",
      "\u001b[34m[25]#011train-error:0.09829\u001b[0m\n",
      "\u001b[34m[26]#011train-error:0.09812\u001b[0m\n",
      "\u001b[34m[27]#011train-error:0.09805\u001b[0m\n",
      "\u001b[34m[28]#011train-error:0.09798\u001b[0m\n",
      "\u001b[34m[29]#011train-error:0.09788\u001b[0m\n",
      "\u001b[34m[30]#011train-error:0.09802\u001b[0m\n",
      "\u001b[34m[31]#011train-error:0.09784\u001b[0m\n",
      "\u001b[34m[32]#011train-error:0.09777\u001b[0m\n",
      "\u001b[34m[33]#011train-error:0.09763\u001b[0m\n",
      "\u001b[34m[34]#011train-error:0.09756\u001b[0m\n",
      "\u001b[34m[35]#011train-error:0.09750\u001b[0m\n",
      "\u001b[34m[36]#011train-error:0.09760\u001b[0m\n",
      "\u001b[34m[37]#011train-error:0.09746\u001b[0m\n",
      "\u001b[34m[38]#011train-error:0.09760\u001b[0m\n",
      "\u001b[34m[39]#011train-error:0.09760\u001b[0m\n",
      "\u001b[34m[40]#011train-error:0.09739\u001b[0m\n",
      "\u001b[34m[41]#011train-error:0.09736\u001b[0m\n",
      "\u001b[34m[42]#011train-error:0.09725\u001b[0m\n",
      "\u001b[34m[43]#011train-error:0.09732\u001b[0m\n",
      "\u001b[34m[44]#011train-error:0.09701\u001b[0m\n",
      "\u001b[34m[45]#011train-error:0.09732\u001b[0m\n",
      "\u001b[34m[46]#011train-error:0.09722\u001b[0m\n",
      "\u001b[34m[47]#011train-error:0.09708\u001b[0m\n",
      "\u001b[34m[48]#011train-error:0.09677\u001b[0m\n",
      "\u001b[34m[49]#011train-error:0.09694\u001b[0m\n",
      "\u001b[34m[50]#011train-error:0.09673\u001b[0m\n",
      "\u001b[34m[51]#011train-error:0.09677\u001b[0m\n",
      "\u001b[34m[52]#011train-error:0.09656\u001b[0m\n",
      "\u001b[34m[53]#011train-error:0.09652\u001b[0m\n",
      "\u001b[34m[54]#011train-error:0.09659\u001b[0m\n",
      "\u001b[34m[55]#011train-error:0.09645\u001b[0m\n",
      "\u001b[34m[56]#011train-error:0.09663\u001b[0m\n",
      "\u001b[34m[57]#011train-error:0.09635\u001b[0m\n",
      "\u001b[34m[58]#011train-error:0.09625\u001b[0m\n",
      "\u001b[34m[59]#011train-error:0.09618\u001b[0m\n",
      "\u001b[34m[60]#011train-error:0.09618\u001b[0m\n",
      "\u001b[34m[61]#011train-error:0.09597\u001b[0m\n",
      "\u001b[34m[62]#011train-error:0.09590\u001b[0m\n",
      "\u001b[34m[63]#011train-error:0.09576\u001b[0m\n",
      "\u001b[34m[64]#011train-error:0.09559\u001b[0m\n",
      "\u001b[34m[65]#011train-error:0.09559\u001b[0m\n",
      "\u001b[34m[66]#011train-error:0.09559\u001b[0m\n",
      "\u001b[34m[67]#011train-error:0.09573\u001b[0m\n",
      "\u001b[34m[68]#011train-error:0.09552\u001b[0m\n",
      "\u001b[34m[69]#011train-error:0.09545\u001b[0m\n",
      "\u001b[34m[70]#011train-error:0.09521\u001b[0m\n",
      "\u001b[34m[71]#011train-error:0.09517\u001b[0m\n",
      "\u001b[34m[72]#011train-error:0.09510\u001b[0m\n",
      "\u001b[34m[73]#011train-error:0.09510\u001b[0m\n",
      "\u001b[34m[74]#011train-error:0.09517\u001b[0m\n",
      "\u001b[34m[75]#011train-error:0.09517\u001b[0m\n",
      "\u001b[34m[76]#011train-error:0.09521\u001b[0m\n",
      "\u001b[34m[77]#011train-error:0.09524\u001b[0m\n",
      "\u001b[34m[78]#011train-error:0.09521\u001b[0m\n",
      "\u001b[34m[79]#011train-error:0.09531\u001b[0m\n",
      "\u001b[34m[80]#011train-error:0.09524\u001b[0m\n",
      "\u001b[34m[81]#011train-error:0.09517\u001b[0m\n",
      "\u001b[34m[82]#011train-error:0.09524\u001b[0m\n",
      "\u001b[34m[83]#011train-error:0.09517\u001b[0m\n",
      "\u001b[34m[84]#011train-error:0.09517\u001b[0m\n",
      "\u001b[34m[85]#011train-error:0.09517\u001b[0m\n",
      "\u001b[34m[86]#011train-error:0.09510\u001b[0m\n",
      "\u001b[34m[87]#011train-error:0.09528\u001b[0m\n",
      "\u001b[34m[88]#011train-error:0.09531\u001b[0m\n",
      "\u001b[34m[89]#011train-error:0.09545\u001b[0m\n",
      "\u001b[34m[90]#011train-error:0.09528\u001b[0m\n",
      "\u001b[34m[91]#011train-error:0.09517\u001b[0m\n",
      "\u001b[34m[92]#011train-error:0.09531\u001b[0m\n",
      "\u001b[34m[93]#011train-error:0.09524\u001b[0m\n",
      "\u001b[34m[94]#011train-error:0.09534\u001b[0m\n",
      "\u001b[34m[95]#011train-error:0.09514\u001b[0m\n",
      "\u001b[34m[96]#011train-error:0.09517\u001b[0m\n",
      "\u001b[34m[97]#011train-error:0.09514\u001b[0m\n",
      "\u001b[34m[98]#011train-error:0.09496\u001b[0m\n",
      "\u001b[34m[99]#011train-error:0.09489\u001b[0m\n",
      "\n",
      "2020-09-30 15:37:14 Completed - Training job completed\n",
      "Training seconds: 70\n",
      "Billable seconds: 70\n"
     ]
    }
   ],
   "source": [
    "sess = sagemaker.Session(session)\n",
    "xgb = sagemaker.estimator.Estimator(\n",
    "    CONTAINER,\n",
    "    ROLE,\n",
    "    train_instance_count=1,\n",
    "    train_instance_type='ml.m4.xlarge',\n",
    "    output_path=f's3://{BUCKET}/models',\n",
    "    sagemaker_session=sess)\n",
    "xgb.set_hyperparameters(max_depth=5,eta=0.2,gamma=4,min_child_weight=6,subsample=0.8,silent=0,\n",
    "                        objective='binary:logistic',num_round=100)\n",
    "xgb.fit({'train': s3_input_train})"
   ]
  },
  {
   "cell_type": "markdown",
   "metadata": {},
   "source": [
    "# Connecting to MemSQL\n",
    "Here you will need to specify credentials for your MemSQL instance in order to connect"
   ]
  },
  {
   "cell_type": "code",
   "execution_count": 10,
   "metadata": {},
   "outputs": [],
   "source": [
    "memsql_host=\"YOUR MEMSQL HOST HERE\"\n",
    "memsql_port=3306  # YOUR MEMSQL PORT HERE\n",
    "memsql_user=\"YOUR USERNAME HERE\"\n",
    "memsql_password=\"YOUR PASSWORD HERE\"\n",
    "\n",
    "memsql_conn = database.connect(\n",
    "    host=memsql_host, port=memsql_port, \n",
    "    user=memsql_user, password=memsql_password)\n",
    "\n",
    "memsql_conn.query('CREATE DATABASE IF NOT EXISTS testsm');\n",
    "memsql_conn.query('USE testsm');"
   ]
  },
  {
   "cell_type": "markdown",
   "metadata": {},
   "source": [
    "# Deploying Model to MemSQL"
   ]
  },
  {
   "cell_type": "code",
   "execution_count": 11,
   "metadata": {
    "scrolled": true
   },
   "outputs": [
    {
     "data": {
      "text/plain": [
       "'s3://sagemaker-test-memsql-6122066355281312115/models/sagemaker-xgboost-2020-09-30-15-34-06-144/output/model.tar.gz'"
      ]
     },
     "execution_count": 11,
     "metadata": {},
     "output_type": "execute_result"
    }
   ],
   "source": [
    "xgb.model_data"
   ]
  },
  {
   "cell_type": "code",
   "execution_count": 12,
   "metadata": {},
   "outputs": [],
   "source": [
    "memsql_sagemaker.xgb_model_path_to_memsql('predict_yes', xgb.model_data, memsql_conn, session,\n",
    "                                          feature_names=features,  allow_overwrite=True)"
   ]
  },
  {
   "cell_type": "markdown",
   "metadata": {},
   "source": [
    "# Cross Check"
   ]
  },
  {
   "cell_type": "code",
   "execution_count": 13,
   "metadata": {},
   "outputs": [],
   "source": [
    "memsql_conn.query(\"DROP TABLE IF EXISTS bank\")\n",
    "load_csv_to_table('data/bank_clean.csv', \"bank\", [\"id\"] + features + [\"y_yes\", \"y_no\"], memsql_conn)"
   ]
  },
  {
   "cell_type": "code",
   "execution_count": 14,
   "metadata": {},
   "outputs": [],
   "source": [
    "rows = memsql_conn.query(f\"SELECT {','.join(features)} FROM bank ORDER BY id LIMIT 10\")"
   ]
  },
  {
   "cell_type": "code",
   "execution_count": 15,
   "metadata": {},
   "outputs": [
    {
     "data": {
      "text/plain": [
       "(10, 59)"
      ]
     },
     "execution_count": 15,
     "metadata": {},
     "output_type": "execute_result"
    }
   ],
   "source": [
    "arr = np.array([list(row.values()) for row in rows])\n",
    "arr.shape"
   ]
  },
  {
   "cell_type": "code",
   "execution_count": 16,
   "metadata": {},
   "outputs": [
    {
     "data": {
      "text/plain": [
       "array([0.034729  , 0.02179087, 0.02758407, 0.03368836, 0.02679826,\n",
       "       0.02990467, 0.07324626, 0.02542989, 0.03137181, 0.02972417],\n",
       "      dtype=float32)"
      ]
     },
     "execution_count": 16,
     "metadata": {},
     "output_type": "execute_result"
    }
   ],
   "source": [
    "actual_model = memsql_sagemaker.load_xgboost_from_s3(xgb.model_data, session)\n",
    "actual_model.predict(xgboost.DMatrix(arr))"
   ]
  },
  {
   "cell_type": "markdown",
   "metadata": {},
   "source": [
    "Now using the UDF in the MemSQL:"
   ]
  },
  {
   "cell_type": "code",
   "execution_count": 17,
   "metadata": {},
   "outputs": [
    {
     "data": {
      "text/plain": [
       "[Row({'res': 0.034728985990970206}),\n",
       " Row({'res': 0.02179086283853907}),\n",
       " Row({'res': 0.027584073278675514}),\n",
       " Row({'res': 0.0336883398009049}),\n",
       " Row({'res': 0.026798250088515257}),\n",
       " Row({'res': 0.029904634599325696}),\n",
       " Row({'res': 0.07324624161027454}),\n",
       " Row({'res': 0.025429872943719366}),\n",
       " Row({'res': 0.03137180130238585}),\n",
       " Row({'res': 0.02972417099313468})]"
      ]
     },
     "execution_count": 17,
     "metadata": {},
     "output_type": "execute_result"
    }
   ],
   "source": [
    "memsql_conn.query(f\"SELECT predict_yes({','.join(features)}) as res FROM bank ORDER BY id LIMIT 10\")"
   ]
  }
 ],
 "metadata": {
  "kernelspec": {
   "display_name": "Python 3",
   "language": "python",
   "name": "python3"
  },
  "language_info": {
   "codemirror_mode": {
    "name": "ipython",
    "version": 3
   },
   "file_extension": ".py",
   "mimetype": "text/x-python",
   "name": "python",
   "nbconvert_exporter": "python",
   "pygments_lexer": "ipython3",
   "version": "3.7.3"
  }
 },
 "nbformat": 4,
 "nbformat_minor": 4
}
