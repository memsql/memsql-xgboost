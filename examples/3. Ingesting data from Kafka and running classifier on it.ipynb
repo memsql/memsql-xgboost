{
 "cells": [
  {
   "cell_type": "markdown",
   "metadata": {},
   "source": [
    "This notebook demonstrates how to do a real-time data ingest data from Kafka into MemSQL and immediately run a ML model on the ingested data.\n",
    "\t\n",
    "#### Prerequisites\n",
    "To run code in this notebook you'll need:\n",
    "* A MemSQL instance.  You can get a **free** trial cloud cluster at https://portal.memsql.com/\n",
    "* A Kafka instance you plan to ingest data from\n",
    "* Pandas, NumPy, and XGBoost libraires installed (see `README.md` file at the root of this repository)"
   ]
  },
  {
   "cell_type": "code",
   "execution_count": 1,
   "metadata": {},
   "outputs": [],
   "source": [
    "import xgboost as xgb\n",
    "import pandas as pd\n",
    "import memsql\n",
    "import numpy as np"
   ]
  },
  {
   "cell_type": "markdown",
   "metadata": {},
   "source": [
    "### Reading Data\n",
    "\n",
    "We use the same dataset as in Amazon's Sagemaker [tutorial](https://aws.amazon.com/getting-started/hands-on/build-train-deploy-machine-learning-model-sagemaker/)."
   ]
  },
  {
   "cell_type": "code",
   "execution_count": 2,
   "metadata": {},
   "outputs": [
    {
     "name": "stdout",
     "output_type": "stream",
     "text": [
      "number of rows: 41188\n"
     ]
    },
    {
     "data": {
      "text/html": [
       "<div>\n",
       "<style scoped>\n",
       "    .dataframe tbody tr th:only-of-type {\n",
       "        vertical-align: middle;\n",
       "    }\n",
       "\n",
       "    .dataframe tbody tr th {\n",
       "        vertical-align: top;\n",
       "    }\n",
       "\n",
       "    .dataframe thead th {\n",
       "        text-align: right;\n",
       "    }\n",
       "</style>\n",
       "<table border=\"1\" class=\"dataframe\">\n",
       "  <thead>\n",
       "    <tr style=\"text-align: right;\">\n",
       "      <th></th>\n",
       "      <th>age</th>\n",
       "      <th>campaign</th>\n",
       "      <th>pdays</th>\n",
       "      <th>previous</th>\n",
       "      <th>no_previous_contact</th>\n",
       "      <th>not_working</th>\n",
       "      <th>job_admin</th>\n",
       "      <th>job_blue_collar</th>\n",
       "      <th>job_entrepreneur</th>\n",
       "      <th>job_housemaid</th>\n",
       "      <th>...</th>\n",
       "      <th>day_of_week_fri</th>\n",
       "      <th>day_of_week_mon</th>\n",
       "      <th>day_of_week_thu</th>\n",
       "      <th>day_of_week_tue</th>\n",
       "      <th>day_of_week_wed</th>\n",
       "      <th>poutcome_failure</th>\n",
       "      <th>poutcome_nonexistent</th>\n",
       "      <th>poutcome_success</th>\n",
       "      <th>y_no</th>\n",
       "      <th>y_yes</th>\n",
       "    </tr>\n",
       "  </thead>\n",
       "  <tbody>\n",
       "    <tr>\n",
       "      <th>0</th>\n",
       "      <td>56</td>\n",
       "      <td>1</td>\n",
       "      <td>999</td>\n",
       "      <td>0</td>\n",
       "      <td>1</td>\n",
       "      <td>0</td>\n",
       "      <td>0</td>\n",
       "      <td>0</td>\n",
       "      <td>0</td>\n",
       "      <td>1</td>\n",
       "      <td>...</td>\n",
       "      <td>0</td>\n",
       "      <td>1</td>\n",
       "      <td>0</td>\n",
       "      <td>0</td>\n",
       "      <td>0</td>\n",
       "      <td>0</td>\n",
       "      <td>1</td>\n",
       "      <td>0</td>\n",
       "      <td>1</td>\n",
       "      <td>0</td>\n",
       "    </tr>\n",
       "    <tr>\n",
       "      <th>1</th>\n",
       "      <td>57</td>\n",
       "      <td>1</td>\n",
       "      <td>999</td>\n",
       "      <td>0</td>\n",
       "      <td>1</td>\n",
       "      <td>0</td>\n",
       "      <td>0</td>\n",
       "      <td>0</td>\n",
       "      <td>0</td>\n",
       "      <td>0</td>\n",
       "      <td>...</td>\n",
       "      <td>0</td>\n",
       "      <td>1</td>\n",
       "      <td>0</td>\n",
       "      <td>0</td>\n",
       "      <td>0</td>\n",
       "      <td>0</td>\n",
       "      <td>1</td>\n",
       "      <td>0</td>\n",
       "      <td>1</td>\n",
       "      <td>0</td>\n",
       "    </tr>\n",
       "    <tr>\n",
       "      <th>2</th>\n",
       "      <td>37</td>\n",
       "      <td>1</td>\n",
       "      <td>999</td>\n",
       "      <td>0</td>\n",
       "      <td>1</td>\n",
       "      <td>0</td>\n",
       "      <td>0</td>\n",
       "      <td>0</td>\n",
       "      <td>0</td>\n",
       "      <td>0</td>\n",
       "      <td>...</td>\n",
       "      <td>0</td>\n",
       "      <td>1</td>\n",
       "      <td>0</td>\n",
       "      <td>0</td>\n",
       "      <td>0</td>\n",
       "      <td>0</td>\n",
       "      <td>1</td>\n",
       "      <td>0</td>\n",
       "      <td>1</td>\n",
       "      <td>0</td>\n",
       "    </tr>\n",
       "    <tr>\n",
       "      <th>3</th>\n",
       "      <td>40</td>\n",
       "      <td>1</td>\n",
       "      <td>999</td>\n",
       "      <td>0</td>\n",
       "      <td>1</td>\n",
       "      <td>0</td>\n",
       "      <td>1</td>\n",
       "      <td>0</td>\n",
       "      <td>0</td>\n",
       "      <td>0</td>\n",
       "      <td>...</td>\n",
       "      <td>0</td>\n",
       "      <td>1</td>\n",
       "      <td>0</td>\n",
       "      <td>0</td>\n",
       "      <td>0</td>\n",
       "      <td>0</td>\n",
       "      <td>1</td>\n",
       "      <td>0</td>\n",
       "      <td>1</td>\n",
       "      <td>0</td>\n",
       "    </tr>\n",
       "    <tr>\n",
       "      <th>4</th>\n",
       "      <td>56</td>\n",
       "      <td>1</td>\n",
       "      <td>999</td>\n",
       "      <td>0</td>\n",
       "      <td>1</td>\n",
       "      <td>0</td>\n",
       "      <td>0</td>\n",
       "      <td>0</td>\n",
       "      <td>0</td>\n",
       "      <td>0</td>\n",
       "      <td>...</td>\n",
       "      <td>0</td>\n",
       "      <td>1</td>\n",
       "      <td>0</td>\n",
       "      <td>0</td>\n",
       "      <td>0</td>\n",
       "      <td>0</td>\n",
       "      <td>1</td>\n",
       "      <td>0</td>\n",
       "      <td>1</td>\n",
       "      <td>0</td>\n",
       "    </tr>\n",
       "  </tbody>\n",
       "</table>\n",
       "<p>5 rows × 61 columns</p>\n",
       "</div>"
      ],
      "text/plain": [
       "   age  campaign  pdays  previous  no_previous_contact  not_working  \\\n",
       "0   56         1    999         0                    1            0   \n",
       "1   57         1    999         0                    1            0   \n",
       "2   37         1    999         0                    1            0   \n",
       "3   40         1    999         0                    1            0   \n",
       "4   56         1    999         0                    1            0   \n",
       "\n",
       "   job_admin  job_blue_collar  job_entrepreneur  job_housemaid  ...  \\\n",
       "0          0                0                 0              1  ...   \n",
       "1          0                0                 0              0  ...   \n",
       "2          0                0                 0              0  ...   \n",
       "3          1                0                 0              0  ...   \n",
       "4          0                0                 0              0  ...   \n",
       "\n",
       "   day_of_week_fri  day_of_week_mon  day_of_week_thu  day_of_week_tue  \\\n",
       "0                0                1                0                0   \n",
       "1                0                1                0                0   \n",
       "2                0                1                0                0   \n",
       "3                0                1                0                0   \n",
       "4                0                1                0                0   \n",
       "\n",
       "   day_of_week_wed  poutcome_failure  poutcome_nonexistent  poutcome_success  \\\n",
       "0                0                 0                     1                 0   \n",
       "1                0                 0                     1                 0   \n",
       "2                0                 0                     1                 0   \n",
       "3                0                 0                     1                 0   \n",
       "4                0                 0                     1                 0   \n",
       "\n",
       "   y_no  y_yes  \n",
       "0     1      0  \n",
       "1     1      0  \n",
       "2     1      0  \n",
       "3     1      0  \n",
       "4     1      0  \n",
       "\n",
       "[5 rows x 61 columns]"
      ]
     },
     "execution_count": 2,
     "metadata": {},
     "output_type": "execute_result"
    }
   ],
   "source": [
    "all_data = pd.read_csv('data/bank_clean.csv', index_col=0)\n",
    "print(\"number of rows:\", len(all_data.index))\n",
    "all_data.head()"
   ]
  },
  {
   "cell_type": "markdown",
   "metadata": {},
   "source": [
    "Splitting data as 80% train set, 20% as test set."
   ]
  },
  {
   "cell_type": "code",
   "execution_count": 3,
   "metadata": {},
   "outputs": [],
   "source": [
    "train_data=all_data.sample(frac=0.8, random_state=200) #random state is a seed value\n",
    "test_data=all_data.drop(train_data.index)"
   ]
  },
  {
   "cell_type": "code",
   "execution_count": 4,
   "metadata": {},
   "outputs": [
    {
     "name": "stdout",
     "output_type": "stream",
     "text": [
      "number of rows in train set: 32950\n",
      "number of rows in  test set: 8238\n"
     ]
    }
   ],
   "source": [
    "print(\"number of rows in train set:\", len(train_data.index))\n",
    "print(\"number of rows in  test set:\", len( test_data.index))"
   ]
  },
  {
   "cell_type": "markdown",
   "metadata": {},
   "source": [
    "Converting from pandas dataframe to NumPy matrix for the XGBoost"
   ]
  },
  {
   "cell_type": "code",
   "execution_count": 5,
   "metadata": {},
   "outputs": [],
   "source": [
    "X_train = train_data.drop(['y_no', 'y_yes'], axis=1).to_numpy()\n",
    "y_train = train_data['y_yes'].to_numpy()\n",
    "X_test = test_data.drop(['y_no', 'y_yes'], axis=1).to_numpy()\n",
    "y_test = test_data['y_yes'].to_numpy()"
   ]
  },
  {
   "cell_type": "markdown",
   "metadata": {},
   "source": [
    "### Training the Model"
   ]
  },
  {
   "cell_type": "code",
   "execution_count": 6,
   "metadata": {},
   "outputs": [],
   "source": [
    "clf = xgb.XGBClassifier()\n",
    "clf.fit(X_train, y_train, eval_set=[(X_test, y_test)], eval_metric='error', early_stopping_rounds=10, verbose=0)\n",
    "booster = clf.get_booster()\n",
    "booster.feature_names = list(train_data.drop(['y_yes', 'y_no'], axis=1).columns)"
   ]
  },
  {
   "cell_type": "markdown",
   "metadata": {},
   "source": [
    "### Deploying the Model to MemSQL"
   ]
  },
  {
   "cell_type": "markdown",
   "metadata": {},
   "source": [
    "First, connect to MemSQL.  See `README.md` at the top of this repository about getting all the necessary values. Please, enter your credentials into the call below"
   ]
  },
  {
   "cell_type": "code",
   "execution_count": 7,
   "metadata": {},
   "outputs": [],
   "source": [
    "from memsql.common import database\n",
    "memsql_host=\"<enter_your_host>\"\n",
    "memsql_port=3306\n",
    "memsql_user=\"root\"\n",
    "memsql_password=\"\"\n",
    "\n",
    "memsql_conn = database.connect(\n",
    "    host=memsql_host, port=memsql_port, \n",
    "    user=memsql_user, password=memsql_password)\n",
    "\n",
    "memsql_conn.query('CREATE DATABASE IF NOT EXISTS testsm')\n",
    "memsql_conn.query('USE testsm');"
   ]
  },
  {
   "cell_type": "markdown",
   "metadata": {},
   "source": [
    "Deploy the model:"
   ]
  },
  {
   "cell_type": "code",
   "execution_count": 8,
   "metadata": {},
   "outputs": [],
   "source": [
    "import lib.memsql_udf as udf_tool\n",
    "udf_tool.upload_xgb_to_memsql(booster, memsql_conn, 'apply_trees', allow_overwrite=True)"
   ]
  },
  {
   "cell_type": "markdown",
   "metadata": {},
   "source": [
    "Lets also load the data to into the `bank` table:"
   ]
  },
  {
   "cell_type": "code",
   "execution_count": 9,
   "metadata": {},
   "outputs": [],
   "source": [
    "import lib.memsql_csv as csv_tool\n",
    "memsql_conn.query(\"DROP TABLE IF EXISTS bank\")\n",
    "csv_tool.load_csv_to_table(\"data/bank_clean.csv\", \"bank\", [\"id\"] + list(all_data.columns), memsql_conn)"
   ]
  },
  {
   "cell_type": "markdown",
   "metadata": {},
   "source": [
    "To simulate real-time ingest we need to first populate Kafka topic using [SELECT ... INTO KAFKA ...](https://docs.memsql.com/v7.1/reference/sql-reference/data-manipulation-language-dml/select/#select--into-kafka-) "
   ]
  },
  {
   "cell_type": "markdown",
   "metadata": {},
   "source": [
    "#### Please, enter your Kafka connection information into the call below\n",
    "\n",
    "<b>kafka_topic_endpoint</b> is the list of Kafka brokers, followed by the topic to which MemSQL will publish messages. For each broker in the list, specify its host and port.\n",
    "\n",
    "<b>kafka_config</b> is the Kafka configuration properties, specified in JSON format, that are used while MemSQL publishes messages to a topic. The configuration properties are the same properties that are stored in the server.properties file on each Kafka broker.\n",
    "\n",
    "<b>kafka_credentials</b> is the credentials, in JSON format, used to connect to Kafka.\n",
    "\n",
    "<b>Example 1:</b>\n",
    "```python\n",
    "kafka_topic_endpoint = \"host1.example.com:9092,host2.example.com:9092,host3.example.com:9092/test-topic\"\n",
    "\n",
    "kafka_config = '''\n",
    "{\n",
    "    \"security.protocol\": \"ssl\",\n",
    "    \"ssl.certificate.location\": \"/var/private/ssl/client_memsql_client.pem\",\n",
    "    \"ssl.key.location\": \"/var/private/ssl/client_memsql_client.key\",\n",
    "    \"ssl.ca.location\": \"/var/private/ssl/ca-cert.pem\"\n",
    "}\n",
    "'''\n",
    "    \n",
    "kafka_credentials = '''\n",
    "{\n",
    "    \"ssl.key.password\": \"abcdefgh\"\n",
    "}\n",
    "'''\n",
    "```\n",
    "<b>Example 2:</b>\n",
    "```python\n",
    "kafka_topic_endpoint = \"host.confluent.cloud:9092/topic\"\n",
    "\n",
    "kafka_config = '''\n",
    "{\n",
    "    \"sasl.mechanism\": \"PLAIN\",\n",
    "    \"security.protocol\": \"SASL_SSL\",\n",
    "    \"ssl.ca.location\": \"/etc/pki/ca-trust/extracted/pem/tls-ca-bundle.pem\"\n",
    "}\n",
    "'''\n",
    "\n",
    "kafka_credentials = '''\n",
    "{\n",
    "    \"sasl.username\": \"1234ASDSAD\",\n",
    "    \"sasl.password\": \"XXXXXXXXXXXXXXXXXXXXXXXXXXXXXXXXXXXAAAAAAAAAAAAAAAAAAAAAAAAA\"\n",
    "}\n",
    "'''\n",
    "```"
   ]
  },
  {
   "cell_type": "code",
   "execution_count": 10,
   "metadata": {},
   "outputs": [],
   "source": [
    "kafka_topic_endpoint = \"<enter_your_endpoint>\"\n",
    "kafka_config = \"<enter_your_config>\"\n",
    "kafka_credentials = \"<enter_your_credentials>\"\n",
    "\n",
    "memsql_conn.query(\n",
    "    f'''\n",
    "    SELECT * FROM bank INTO KAFKA '{kafka_topic_endpoint}'\n",
    "    CONFIG '{kafka_config}'\n",
    "    CREDENTIALS '{kafka_credentials}'\n",
    "    '''\n",
    ");"
   ]
  },
  {
   "cell_type": "markdown",
   "metadata": {},
   "source": [
    "Now for the actual ingest from Kafka topic to MemSQL using [Kafka pipelines](https://docs.memsql.com/v6.8/concepts/pipelines/kafka-extractor/) and computing the UDF inside of the stored procedure"
   ]
  },
  {
   "cell_type": "code",
   "execution_count": 11,
   "metadata": {},
   "outputs": [],
   "source": [
    "memsql_conn.query(\"DROP TABLE IF EXISTS res\")\n",
    "memsql_conn.query(\"CREATE TABLE res(age DOUBLE NOT NULL, campaign DOUBLE NOT NULL, pdays DOUBLE NOT NULL, not_working DOUBLE NOT NULL, expected DOUBLE NOT NULL, predicted DOUBLE NOT NULL)\")\n",
    "memsql_conn.query(\n",
    "    f'''\n",
    "    CREATE OR REPLACE PROCEDURE process_kafka_data(pipe query({\", \".join([f\"{f} DOUBLE NOT NULL\" for f in [\"id\"] + list(all_data.columns)])})) AS\n",
    "    BEGIN\n",
    "        INSERT INTO res(age, campaign, pdays, not_working, expected, predicted) \n",
    "        SELECT y_yes, apply_trees({\", \".join(booster.feature_names)})\n",
    "        FROM pipe;\n",
    "    END\n",
    "    '''\n",
    ")\n",
    "memsql_conn.query(\"DROP PIPELINE IF EXISTS process_kafka_data\")\n",
    "memsql_conn.query(\n",
    "    f'''\n",
    "    CREATE PIPELINE process_kafka_data \n",
    "    AS LOAD DATA KAFKA '{kafka_topic_endpoint}'\n",
    "    CONFIG '{kafka_config}'\n",
    "    CREDENTIALS '{kafka_credentials}'\n",
    "    INTO PROCEDURE `process_kafka_data`\n",
    "    '''\n",
    ")\n",
    "memsql_conn.query(\"START PIPELINE process_kafka_data\");"
   ]
  },
  {
   "cell_type": "markdown",
   "metadata": {},
   "source": [
    "Wait while all data will be loaded."
   ]
  },
  {
   "cell_type": "code",
   "execution_count": 12,
   "metadata": {},
   "outputs": [],
   "source": [
    "import time\n",
    "while memsql_conn.query(\"SELECT COUNT(*) AS size FROM res\")[0][\"size\"] < len(all_data):\n",
    "    time.sleep(0.5)"
   ]
  },
  {
   "cell_type": "markdown",
   "metadata": {},
   "source": [
    "Let's select a few rows of the result:"
   ]
  },
  {
   "cell_type": "code",
   "execution_count": 13,
   "metadata": {},
   "outputs": [
    {
     "data": {
      "text/html": [
       "<div>\n",
       "<style scoped>\n",
       "    .dataframe tbody tr th:only-of-type {\n",
       "        vertical-align: middle;\n",
       "    }\n",
       "\n",
       "    .dataframe tbody tr th {\n",
       "        vertical-align: top;\n",
       "    }\n",
       "\n",
       "    .dataframe thead th {\n",
       "        text-align: right;\n",
       "    }\n",
       "</style>\n",
       "<table border=\"1\" class=\"dataframe\">\n",
       "  <thead>\n",
       "    <tr style=\"text-align: right;\">\n",
       "      <th></th>\n",
       "      <th>expected</th>\n",
       "      <th>predicted</th>\n",
       "    </tr>\n",
       "  </thead>\n",
       "  <tbody>\n",
       "    <tr>\n",
       "      <th>0</th>\n",
       "      <td>0.0</td>\n",
       "      <td>0.027024</td>\n",
       "    </tr>\n",
       "    <tr>\n",
       "      <th>1</th>\n",
       "      <td>0.0</td>\n",
       "      <td>0.027967</td>\n",
       "    </tr>\n",
       "    <tr>\n",
       "      <th>2</th>\n",
       "      <td>0.0</td>\n",
       "      <td>0.030070</td>\n",
       "    </tr>\n",
       "    <tr>\n",
       "      <th>3</th>\n",
       "      <td>0.0</td>\n",
       "      <td>0.029483</td>\n",
       "    </tr>\n",
       "    <tr>\n",
       "      <th>4</th>\n",
       "      <td>0.0</td>\n",
       "      <td>0.021706</td>\n",
       "    </tr>\n",
       "  </tbody>\n",
       "</table>\n",
       "</div>"
      ],
      "text/plain": [
       "   expected  predicted\n",
       "0       0.0   0.027024\n",
       "1       0.0   0.027967\n",
       "2       0.0   0.030070\n",
       "3       0.0   0.029483\n",
       "4       0.0   0.021706"
      ]
     },
     "execution_count": 13,
     "metadata": {},
     "output_type": "execute_result"
    }
   ],
   "source": [
    "rows = memsql_conn.query(\"SELECT * FROM res LIMIT 5\")\n",
    "pd.DataFrame([dict(r) for r in rows]).head()"
   ]
  }
 ],
 "metadata": {
  "kernelspec": {
   "display_name": "Python 3",
   "language": "python",
   "name": "python3"
  },
  "language_info": {
   "codemirror_mode": {
    "name": "ipython",
    "version": 3
   },
   "file_extension": ".py",
   "mimetype": "text/x-python",
   "name": "python",
   "nbconvert_exporter": "python",
   "pygments_lexer": "ipython3",
   "version": "3.7.3"
  }
 },
 "nbformat": 4,
 "nbformat_minor": 4
}
