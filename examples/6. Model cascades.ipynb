{
 "cells": [
  {
   "cell_type": "markdown",
   "metadata": {},
   "source": [
    "### In this demo we will train a xgboost model and will use it as a cascade model"
   ]
  },
  {
   "cell_type": "code",
   "execution_count": null,
   "metadata": {},
   "outputs": [],
   "source": [
    "import xgboost as xgb\n",
    "import pandas as pd\n",
    "import memsql\n",
    "import numpy as np"
   ]
  },
  {
   "cell_type": "markdown",
   "metadata": {},
   "source": [
    "### First of all, read reviews data from a file"
   ]
  },
  {
   "cell_type": "code",
   "execution_count": null,
   "metadata": {},
   "outputs": [],
   "source": [
    "movie_reviews = pd.read_csv(\"../movie.reviews\", sep = \"\\t\", names = [\"user_id\",\"movie_id\",\"rating\",\"timestamp\"])\n",
    "movie_reviews.drop(['timestamp'],axis=1, inplace=True)\n",
    "movie_reviews.head()"
   ]
  },
  {
   "cell_type": "markdown",
   "metadata": {},
   "source": [
    "### Reading movies data from a file"
   ]
  },
  {
   "cell_type": "code",
   "execution_count": null,
   "metadata": {},
   "outputs": [],
   "source": [
    "all_movies = pd.read_csv(\"../movie.data\", sep = \"\\|\", names = [\"movie_id\", \"movie_title\", \"release_date\", \"video_release_date\",\n",
    "              \"IMDb_URL\", \"unknown\", \"Action\", \"Adventure\", \"Animation\",\n",
    "              \"Children's\", \"Comedy\", \"Crime\", \"Documentary\", \"Drama\", \"Fantasy\",\n",
    "              \"Film-Noir\", \"Horror\", \"Musical\", \"Mystery\", \"Romance\", \"Sci-Fi\",\n",
    "              \"Thriller\", \"War\", \"Western\"])\n",
    "movie_features = all_movies.drop(['IMDb_URL', 'release_date', 'video_release_date', 'movie_title'],axis=1)\n",
    "movie_features.head()"
   ]
  },
  {
   "cell_type": "markdown",
   "metadata": {},
   "source": [
    "### And also user data"
   ]
  },
  {
   "cell_type": "code",
   "execution_count": null,
   "metadata": {},
   "outputs": [],
   "source": [
    "users = pd.read_csv(\"../user.data\", sep = \"\\|\", names = [\"user_id\", \"age\", \"gender\", \"occupation\", \"zip_code\"])\n",
    "users.head()"
   ]
  },
  {
   "cell_type": "markdown",
   "metadata": {},
   "source": [
    "### Here we're going to make one hot encoding of categorical features"
   ]
  },
  {
   "cell_type": "code",
   "execution_count": null,
   "metadata": {},
   "outputs": [],
   "source": [
    "users_occupation = pd.concat([users,pd.get_dummies(users['occupation'], prefix='occupation')],axis=1)\n",
    "users_occupation.drop(['occupation'],axis=1, inplace=True)\n",
    "\n",
    "users_gender = pd.concat([users_occupation,pd.get_dummies(users_occupation['gender'], prefix='gender')],axis=1)\n",
    "users_gender.drop(['gender'],axis=1, inplace=True)\n",
    "users_gender.drop(['zip_code'],axis=1, inplace=True)\n",
    "\n",
    "users_gender.head()"
   ]
  },
  {
   "cell_type": "markdown",
   "metadata": {},
   "source": [
    "### Add average rating as a feature"
   ]
  },
  {
   "cell_type": "code",
   "execution_count": null,
   "metadata": {},
   "outputs": [],
   "source": [
    "average_rating = movie_reviews.groupby('movie_id')['movie_id', 'rating'].mean()\n",
    "average_rating.columns = ['movie_id', 'average_rating']"
   ]
  },
  {
   "cell_type": "markdown",
   "metadata": {},
   "source": [
    "### Let's join movie_features with movie_reviews and add an average rating as a feature"
   ]
  },
  {
   "cell_type": "code",
   "execution_count": null,
   "metadata": {},
   "outputs": [],
   "source": [
    "movie_reviews_features = movie_reviews.join(movie_features.set_index('movie_id'), on='movie_id')\n",
    "movie_reviews_features = movie_reviews_features.join(average_rating.set_index('movie_id'), on='movie_id')\n",
    "all_data = movie_reviews_features.join(users_gender.set_index('user_id'), on='user_id')\n",
    "feature_data = all_data.drop(['user_id', 'movie_id'],axis=1)\n",
    "feature_data.head()"
   ]
  },
  {
   "cell_type": "markdown",
   "metadata": {},
   "source": [
    "### Splitting data as 80% train set, 20% as test set."
   ]
  },
  {
   "cell_type": "code",
   "execution_count": null,
   "metadata": {},
   "outputs": [],
   "source": [
    "train_data=feature_data.sample(frac=0.8, random_state=200) #random state is a seed value\n",
    "test_data=feature_data.drop(train_data.index)"
   ]
  },
  {
   "cell_type": "code",
   "execution_count": null,
   "metadata": {},
   "outputs": [],
   "source": [
    "print(\"number of rows in train set:\", len(train_data.index))\n",
    "print(\"number of rows in  test set:\", len( test_data.index))"
   ]
  },
  {
   "cell_type": "markdown",
   "metadata": {},
   "source": [
    "### Converting from pandas dataframe to NumPy matrix for the xgboost"
   ]
  },
  {
   "cell_type": "code",
   "execution_count": null,
   "metadata": {},
   "outputs": [],
   "source": [
    "X_train = train_data.drop(['rating'], axis=1).to_numpy()\n",
    "y_train = train_data['rating'].to_numpy()\n",
    "X_test = test_data.drop(['rating'], axis=1).to_numpy()\n",
    "y_test = test_data['rating'].to_numpy()"
   ]
  },
  {
   "cell_type": "markdown",
   "metadata": {},
   "source": [
    "### Train the model"
   ]
  },
  {
   "cell_type": "code",
   "execution_count": null,
   "metadata": {},
   "outputs": [],
   "source": [
    "rgr = xgb.XGBRegressor()\n",
    "rgr.fit(X_train, y_train, eval_set=[(X_test, y_test)], eval_metric='rmse', early_stopping_rounds=10, verbose=0);"
   ]
  },
  {
   "cell_type": "markdown",
   "metadata": {},
   "source": [
    "### Lets inspect the model\n",
    "We inspect here only the last tree that was built."
   ]
  },
  {
   "cell_type": "code",
   "execution_count": null,
   "metadata": {},
   "outputs": [],
   "source": [
    "booster = rgr.get_booster()\n",
    "booster.feature_names = list(train_data.drop(['rating'], axis=1).columns)\n",
    "print(booster.get_dump()[-1])"
   ]
  },
  {
   "cell_type": "markdown",
   "metadata": {},
   "source": [
    "### Connect to memsql (look at README for better understanding how to create MemSQL host)"
   ]
  },
  {
   "cell_type": "code",
   "execution_count": null,
   "metadata": {},
   "outputs": [],
   "source": [
    "from memsql.common import database\n",
    "memsql_host=\"<input_your_host_here>\"\n",
    "memsql_port=3306\n",
    "memsql_user=\"root\"\n",
    "memsql_password=\"\"\n",
    "memsql_conn = database.connect(\n",
    "    host=memsql_host, port=memsql_port, \n",
    "    user=memsql_user, password=memsql_password)\n",
    "\n",
    "memsql_conn.query('CREATE DATABASE IF NOT EXISTS testsm')\n",
    "memsql_conn.query('USE testsm');"
   ]
  },
  {
   "cell_type": "markdown",
   "metadata": {},
   "source": [
    "### Deploy model"
   ]
  },
  {
   "cell_type": "code",
   "execution_count": null,
   "metadata": {},
   "outputs": [],
   "source": [
    "import lib.memsql_udf as udf_tool\n",
    "udf_tool.upload_xgb_to_memsql(booster, booster.feature_names, memsql_conn, udf_tool.F.SUM)"
   ]
  },
  {
   "cell_type": "code",
   "execution_count": null,
   "metadata": {},
   "outputs": [],
   "source": [
    "rows = memsql_conn.query(\"SHOW FUNCTIONS\")\n",
    "functions_df = pd.DataFrame([dict(r) for r in rows])\n",
    "functions_df.head()"
   ]
  },
  {
   "cell_type": "markdown",
   "metadata": {},
   "source": [
    "### LOAD data into the table"
   ]
  },
  {
   "cell_type": "code",
   "execution_count": null,
   "metadata": {},
   "outputs": [],
   "source": [
    "import lib.memsql_csv as csv_tool\n",
    "memsql_conn.query(\"DROP TABLE IF EXISTS movie_rating\")\n",
    "csv_tool.load_csv_to_table(\"../movie_ratings.csv\", \"movie_rating\", [\"id\"] + list(all_data.columns), memsql_conn)"
   ]
  },
  {
   "cell_type": "markdown",
   "metadata": {},
   "source": [
    "## Select user "
   ]
  },
  {
   "cell_type": "code",
   "execution_count": null,
   "metadata": {},
   "outputs": [],
   "source": [
    "user_id = 10"
   ]
  },
  {
   "cell_type": "markdown",
   "metadata": {},
   "source": [
    "### Prepare features"
   ]
  },
  {
   "cell_type": "code",
   "execution_count": null,
   "metadata": {},
   "outputs": [],
   "source": [
    "pre_apply_features=['Adventure', 'Animation, Comedy, Documentary, Drama, Mystery, Romance, age, average_rating, gender_F, occupation_artist, occupation_executive, occupation_healthcare, occupation_homemaker, occupation_librarian, occupation_writer']\n",
    "pre_apply_args = ', '.join(pre_apply_features)\n",
    "args = ', '.join(f\"`{f}`\" for f in booster.feature_names)"
   ]
  },
  {
   "cell_type": "markdown",
   "metadata": {},
   "source": [
    "## Select best movies for predict"
   ]
  },
  {
   "cell_type": "code",
   "execution_count": null,
   "metadata": {},
   "outputs": [],
   "source": [
    "res = memsql_conn.query(f\"SELECT DISTINCT movie_id, apply_trees({args}) AS res FROM movie_rating WHERE movie_id NOT IN (SELECT movie_id FROM movie_rating WHERE user_id = {user_id}) AND eval_tree_0({pre_apply_args}) > 1 ORDER BY res DESC LIMIT 10\")\n",
    "top_movies = DataFrame(res.rows)\n",
    "top_movies.columns = res.fieldnames\n",
    "top_movies.head()"
   ]
  },
  {
   "cell_type": "markdown",
   "metadata": {},
   "source": [
    "## Select best films from best fit"
   ]
  },
  {
   "cell_type": "code",
   "execution_count": null,
   "metadata": {},
   "outputs": [],
   "source": [
    "top_movies_features = movie_features[movie_features['movie_id'].isin(top_movies['movie_id'])]\n",
    "top_movies_features['user_id'] = user_id\n",
    "current_user = users_gender[users_gender['user_id'] == user_id]\n",
    "top_movies_features = pd.merge(top_movies_features, current_user, how='left', on=['user_id'])\n",
    "top_movies_features"
   ]
  },
  {
   "cell_type": "markdown",
   "metadata": {},
   "source": [
    "### We got here best possible movies for cuurent user based on the model prediction"
   ]
  },
  {
   "cell_type": "code",
   "execution_count": null,
   "metadata": {},
   "outputs": [],
   "source": [
    "top_movies_features_average_rating = top_movies_features.join(average_rating.set_index('movie_id'), on='movie_id')\n",
    "top_movies_f = top_movies_features_average_rating.drop(['user_id', 'movie_id'],axis=1)\n",
    "best_movies_predict = booster.predict(xgb.DMatrix(top_movies_f, feature_names=booster.feature_names))\n",
    "top_movies_features_average_rating['predict'] = best_movies_predict\n",
    "top_movies = top_movies_features_average_rating.sort_values(by=['predict'], ascending=False)\n",
    "top_labels = pd.merge(top_movies, all_movies[['movie_title', 'movie_id']], how='left', on=['movie_id'])\n",
    "top_labels[['movie_title', 'predict', 'average_rating']]"
   ]
  }
 ],
 "metadata": {
  "kernelspec": {
   "display_name": "Python 3",
   "language": "python",
   "name": "python3"
  },
  "language_info": {
   "codemirror_mode": {
    "name": "ipython",
    "version": 3
   },
   "file_extension": ".py",
   "mimetype": "text/x-python",
   "name": "python",
   "nbconvert_exporter": "python",
   "pygments_lexer": "ipython3",
   "version": "3.7.3"
  }
 },
 "nbformat": 4,
 "nbformat_minor": 4
}
