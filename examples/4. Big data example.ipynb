{
 "cells": [
  {
   "cell_type": "markdown",
   "metadata": {},
   "source": [
    "# Description"
   ]
  },
  {
   "cell_type": "markdown",
   "metadata": {},
   "source": [
    "<h3>In this demo we will train a xgboost model on part of TPC-H dataset and will deploy it as a UDF (user-defined function). Then we will avaluate several queries with deployed UDF in this huge dataset.</h3>"
   ]
  },
  {
   "cell_type": "markdown",
   "metadata": {},
   "source": [
    "<blockquote>\n",
    "<h3>ATTENTION: for this demo it is recomended to have a cluster with more then 100 GB of Disk space and 10 GB of Memory space</h3>\n",
    "</blockquote>"
   ]
  },
  {
   "cell_type": "code",
   "execution_count": 1,
   "metadata": {},
   "outputs": [],
   "source": [
    "import time\n",
    "import xgboost\n",
    "import numpy as np\n",
    "import pandas as pd\n",
    "from lib import memsql_udf\n",
    "from memsql.common import database\n",
    "from IPython.display import clear_output"
   ]
  },
  {
   "cell_type": "markdown",
   "metadata": {},
   "source": [
    "# Connecting to MemSQL"
   ]
  },
  {
   "cell_type": "markdown",
   "metadata": {},
   "source": [
    "<h3>Please, enter your credentials into the cell below</h3>"
   ]
  },
  {
   "cell_type": "code",
   "execution_count": 2,
   "metadata": {},
   "outputs": [],
   "source": [
    "memsql_host=\"<your_memsql_host>\"\n",
    "memsql_port=3306\n",
    "memsql_user=\"root\"\n",
    "memsql_password=\"\""
   ]
  },
  {
   "cell_type": "code",
   "execution_count": 3,
   "metadata": {},
   "outputs": [],
   "source": [
    "memsql_conn = database.connect(\n",
    "    host=memsql_host, port=memsql_port, \n",
    "    user=memsql_user, password=memsql_password)"
   ]
  },
  {
   "cell_type": "markdown",
   "metadata": {},
   "source": [
    "# Exporting Data from S3 to MemSQL using pipelines"
   ]
  },
  {
   "cell_type": "code",
   "execution_count": 4,
   "metadata": {},
   "outputs": [
    {
     "data": {
      "text/plain": [
       "0"
      ]
     },
     "execution_count": 4,
     "metadata": {},
     "output_type": "execute_result"
    }
   ],
   "source": [
    "memsql_conn.query('DROP DATABASE IF EXISTS tpch')\n",
    "memsql_conn.query('CREATE DATABASE tpch')\n",
    "memsql_conn.query('USE tpch')\n",
    "memsql_conn.query(\n",
    "    '''\n",
    "    CREATE TABLE `lineitem` (\n",
    "    `l_orderkey` bigint(11) NOT NULL,\n",
    "    `l_partkey` int(11) NOT NULL,\n",
    "    `l_suppkey` int(11) NOT NULL,\n",
    "    `l_linenumber` int(11) NOT NULL,\n",
    "    `l_quantity` decimal(15,2) NOT NULL,\n",
    "    `l_extendedprice` decimal(15,2) NOT NULL,\n",
    "    `l_discount` decimal(15,2) NOT NULL,\n",
    "    `l_tax` decimal(15,2) NOT NULL,\n",
    "    `l_returnflag` char(1) CHARACTER SET utf8 COLLATE utf8_general_ci NOT NULL,\n",
    "    `l_linestatus` char(1) CHARACTER SET utf8 COLLATE utf8_general_ci NOT NULL,\n",
    "    `l_shipdate` date NOT NULL,\n",
    "    `l_commitdate` date NOT NULL,\n",
    "    `l_receiptdate` date NOT NULL,\n",
    "    `l_shipinstruct` char(25) CHARACTER SET utf8 COLLATE utf8_general_ci NOT NULL,\n",
    "    `l_shipmode` char(10) CHARACTER SET utf8 COLLATE utf8_general_ci NOT NULL,\n",
    "    `l_comment` varchar(44) CHARACTER SET utf8 COLLATE utf8_general_ci NOT NULL,\n",
    "    SHARD KEY (`l_orderkey`) USING CLUSTERED COLUMNSTORE\n",
    "    )\n",
    "    '''\n",
    ")\n",
    "memsql_conn.query(\n",
    "    '''\n",
    "    CREATE OR REPLACE PIPELINE tpch_100_lineitem\n",
    "        AS LOAD DATA S3 'memsql-tpch-dataset/sf_100/lineitem/'\n",
    "        config '{\"region\":\"us-east-1\"}'\n",
    "        SKIP DUPLICATE KEY ERRORS\n",
    "        INTO TABLE lineitem\n",
    "        FIELDS TERMINATED BY '|'\n",
    "        LINES TERMINATED BY '|\\n';\n",
    "    '''\n",
    ")\n",
    "memsql_conn.query(\"START ALL PIPELINES\")"
   ]
  },
  {
   "cell_type": "markdown",
   "metadata": {},
   "source": [
    "<h3> Wait while all data will be loaded. With Free Trial cluster, started in <a href=\"https://www.memsql.com/helios/\" >Helios</a> this process takes around 7 minutes.</h3>"
   ]
  },
  {
   "cell_type": "code",
   "execution_count": 5,
   "metadata": {},
   "outputs": [
    {
     "name": "stdout",
     "output_type": "stream",
     "text": [
      "loaded 538837902 rows out of 538837902\n",
      "CPU times: user 1.97 s, sys: 424 ms, total: 2.4 s\n",
      "Wall time: 9min 9s\n"
     ]
    }
   ],
   "source": [
    "%%time\n",
    "loaded_rows = 0\n",
    "all_rows = 538837902\n",
    "while(loaded_rows != all_rows):\n",
    "    clear_output(wait=True)\n",
    "    print(f'loaded {loaded_rows} rows out of {all_rows}')\n",
    "    loaded_rows = memsql_conn.query(\"SELECT COUNT(*) AS size FROM lineitem\")[0][\"size\"] \n",
    "    time.sleep(1)\n",
    "\n",
    "clear_output(wait=True)\n",
    "print(f'loaded {loaded_rows} rows out of {all_rows}')"
   ]
  },
  {
   "cell_type": "markdown",
   "metadata": {},
   "source": [
    "# Load small part of data from MemSQL and prepare it for training"
   ]
  },
  {
   "cell_type": "code",
   "execution_count": 6,
   "metadata": {},
   "outputs": [],
   "source": [
    "feature_columns = ['l_partkey','l_suppkey','l_quantity','l_discount','l_tax']\n",
    "prediction_column = 'l_extendedprice'\n",
    "all_columns = np.append(feature_columns, prediction_column)"
   ]
  },
  {
   "cell_type": "code",
   "execution_count": 7,
   "metadata": {},
   "outputs": [],
   "source": [
    "all_data = memsql_conn.query(f'SELECT {\", \".join(all_columns)} FROM lineitem LIMIT 50000')"
   ]
  },
  {
   "cell_type": "code",
   "execution_count": 8,
   "metadata": {},
   "outputs": [
    {
     "data": {
      "text/html": [
       "<div>\n",
       "<style scoped>\n",
       "    .dataframe tbody tr th:only-of-type {\n",
       "        vertical-align: middle;\n",
       "    }\n",
       "\n",
       "    .dataframe tbody tr th {\n",
       "        vertical-align: top;\n",
       "    }\n",
       "\n",
       "    .dataframe thead th {\n",
       "        text-align: right;\n",
       "    }\n",
       "</style>\n",
       "<table border=\"1\" class=\"dataframe\">\n",
       "  <thead>\n",
       "    <tr style=\"text-align: right;\">\n",
       "      <th></th>\n",
       "      <th>l_partkey</th>\n",
       "      <th>l_suppkey</th>\n",
       "      <th>l_quantity</th>\n",
       "      <th>l_discount</th>\n",
       "      <th>l_tax</th>\n",
       "      <th>l_extendedprice</th>\n",
       "    </tr>\n",
       "  </thead>\n",
       "  <tbody>\n",
       "    <tr>\n",
       "      <th>0</th>\n",
       "      <td>13509257</td>\n",
       "      <td>9284</td>\n",
       "      <td>33.00</td>\n",
       "      <td>0.03</td>\n",
       "      <td>0.08</td>\n",
       "      <td>41764.14</td>\n",
       "    </tr>\n",
       "    <tr>\n",
       "      <th>1</th>\n",
       "      <td>10068229</td>\n",
       "      <td>568250</td>\n",
       "      <td>37.00</td>\n",
       "      <td>0.08</td>\n",
       "      <td>0.05</td>\n",
       "      <td>44278.64</td>\n",
       "    </tr>\n",
       "    <tr>\n",
       "      <th>2</th>\n",
       "      <td>16715007</td>\n",
       "      <td>715008</td>\n",
       "      <td>37.00</td>\n",
       "      <td>0.01</td>\n",
       "      <td>0.02</td>\n",
       "      <td>37783.29</td>\n",
       "    </tr>\n",
       "    <tr>\n",
       "      <th>3</th>\n",
       "      <td>9111442</td>\n",
       "      <td>611461</td>\n",
       "      <td>23.00</td>\n",
       "      <td>0.04</td>\n",
       "      <td>0.01</td>\n",
       "      <td>33418.77</td>\n",
       "    </tr>\n",
       "    <tr>\n",
       "      <th>4</th>\n",
       "      <td>5204300</td>\n",
       "      <td>954316</td>\n",
       "      <td>39.00</td>\n",
       "      <td>0.03</td>\n",
       "      <td>0.05</td>\n",
       "      <td>46957.56</td>\n",
       "    </tr>\n",
       "  </tbody>\n",
       "</table>\n",
       "</div>"
      ],
      "text/plain": [
       "   l_partkey  l_suppkey l_quantity l_discount l_tax l_extendedprice\n",
       "0   13509257       9284      33.00       0.03  0.08        41764.14\n",
       "1   10068229     568250      37.00       0.08  0.05        44278.64\n",
       "2   16715007     715008      37.00       0.01  0.02        37783.29\n",
       "3    9111442     611461      23.00       0.04  0.01        33418.77\n",
       "4    5204300     954316      39.00       0.03  0.05        46957.56"
      ]
     },
     "execution_count": 8,
     "metadata": {},
     "output_type": "execute_result"
    }
   ],
   "source": [
    "def query_result_to_df(res):\n",
    "    mp = {}\n",
    "    for row in res:\n",
    "        for col in row.keys():\n",
    "            if not (col in mp):\n",
    "                mp[col] = []\n",
    "            mp[col].append(row[col])\n",
    "\n",
    "    return pd.DataFrame(mp)\n",
    "\n",
    "all_data_df = query_result_to_df(all_data)\n",
    "all_data_df.head()"
   ]
  },
  {
   "cell_type": "code",
   "execution_count": 9,
   "metadata": {},
   "outputs": [],
   "source": [
    "train_data=all_data_df.sample(frac=0.8, random_state=200) #random state is a seed value\n",
    "test_data=all_data_df.drop(train_data.index)"
   ]
  },
  {
   "cell_type": "code",
   "execution_count": 10,
   "metadata": {},
   "outputs": [
    {
     "name": "stdout",
     "output_type": "stream",
     "text": [
      "number of rows in train set: 40000\n",
      "number of rows in  test set: 10000\n"
     ]
    }
   ],
   "source": [
    "print(\"number of rows in train set:\", len(train_data.index))\n",
    "print(\"number of rows in  test set:\", len( test_data.index))"
   ]
  },
  {
   "cell_type": "code",
   "execution_count": 11,
   "metadata": {},
   "outputs": [],
   "source": [
    "X_train = train_data.drop([prediction_column], axis=1).to_numpy()\n",
    "y_train = train_data[prediction_column].to_numpy()\n",
    "X_test = test_data.drop([prediction_column], axis=1).to_numpy()\n",
    "y_test = test_data[prediction_column].to_numpy()"
   ]
  },
  {
   "cell_type": "markdown",
   "metadata": {},
   "source": [
    "# Actually Training Model"
   ]
  },
  {
   "cell_type": "code",
   "execution_count": 12,
   "metadata": {},
   "outputs": [],
   "source": [
    "rgr = xgboost.XGBRegressor()\n",
    "rgr.fit(X_train, y_train, eval_set=[(X_test, y_test)], eval_metric='error', verbose=0)\n",
    "booster = rgr.get_booster()\n",
    "booster.feature_names = feature_columns"
   ]
  },
  {
   "cell_type": "markdown",
   "metadata": {},
   "source": [
    "# Deploying Model to MemSQL"
   ]
  },
  {
   "cell_type": "code",
   "execution_count": 13,
   "metadata": {},
   "outputs": [],
   "source": [
    "memsql_udf.upload_xgb_to_memsql(\n",
    "    booster,\n",
    "    feature_columns,\n",
    "    memsql_conn,\n",
    "    memsql_udf.F.SUM\n",
    ")"
   ]
  },
  {
   "cell_type": "markdown",
   "metadata": {},
   "source": [
    "# Advanture time"
   ]
  },
  {
   "cell_type": "markdown",
   "metadata": {},
   "source": [
    "<h3> Lets try some interesting queries. <a href=\"https://en.wikipedia.org/wiki/Mean_squared_error\"> MSE </a> is a perfect choice for the begining. This query will compute UDF on more then $5*10^8$ rows and then compute MSE.</h3>"
   ]
  },
  {
   "cell_type": "code",
   "execution_count": 14,
   "metadata": {},
   "outputs": [
    {
     "name": "stdout",
     "output_type": "stream",
     "text": [
      "CPU times: user 30.9 ms, sys: 9.19 ms, total: 40.1 ms\n",
      "Wall time: 13min 52s\n"
     ]
    },
    {
     "data": {
      "text/html": [
       "<div>\n",
       "<style scoped>\n",
       "    .dataframe tbody tr th:only-of-type {\n",
       "        vertical-align: middle;\n",
       "    }\n",
       "\n",
       "    .dataframe tbody tr th {\n",
       "        vertical-align: top;\n",
       "    }\n",
       "\n",
       "    .dataframe thead th {\n",
       "        text-align: right;\n",
       "    }\n",
       "</style>\n",
       "<table border=\"1\" class=\"dataframe\">\n",
       "  <thead>\n",
       "    <tr style=\"text-align: right;\">\n",
       "      <th></th>\n",
       "      <th>MSE</th>\n",
       "    </tr>\n",
       "  </thead>\n",
       "  <tbody>\n",
       "    <tr>\n",
       "      <th>0</th>\n",
       "      <td>7.158470e+07</td>\n",
       "    </tr>\n",
       "  </tbody>\n",
       "</table>\n",
       "</div>"
      ],
      "text/plain": [
       "            MSE\n",
       "0  7.158470e+07"
      ]
     },
     "execution_count": 14,
     "metadata": {},
     "output_type": "execute_result"
    }
   ],
   "source": [
    "%%time\n",
    "res = memsql_conn.query(\n",
    "    ' '.join([\n",
    "        f'SELECT',\n",
    "        f'AVG(POW({prediction_column}-apply_trees({\", \".join(feature_columns)}), 2)) AS MSE',\n",
    "        f'FROM lineitem'    \n",
    "    ])\n",
    ")\n",
    "\n",
    "query_result_to_df(res).head()"
   ]
  },
  {
   "cell_type": "markdown",
   "metadata": {},
   "source": [
    "<h3>Get predictions for 5 rows</h3>"
   ]
  },
  {
   "cell_type": "code",
   "execution_count": 15,
   "metadata": {},
   "outputs": [
    {
     "name": "stdout",
     "output_type": "stream",
     "text": [
      "5 random predictions:\n",
      "CPU times: user 0 ns, sys: 6.88 ms, total: 6.88 ms\n",
      "Wall time: 1.61 s\n"
     ]
    },
    {
     "data": {
      "text/html": [
       "<div>\n",
       "<style scoped>\n",
       "    .dataframe tbody tr th:only-of-type {\n",
       "        vertical-align: middle;\n",
       "    }\n",
       "\n",
       "    .dataframe tbody tr th {\n",
       "        vertical-align: top;\n",
       "    }\n",
       "\n",
       "    .dataframe thead th {\n",
       "        text-align: right;\n",
       "    }\n",
       "</style>\n",
       "<table border=\"1\" class=\"dataframe\">\n",
       "  <thead>\n",
       "    <tr style=\"text-align: right;\">\n",
       "      <th></th>\n",
       "      <th>expected</th>\n",
       "      <th>predicted</th>\n",
       "      <th>difference</th>\n",
       "    </tr>\n",
       "  </thead>\n",
       "  <tbody>\n",
       "    <tr>\n",
       "      <th>0</th>\n",
       "      <td>65086.23</td>\n",
       "      <td>51014.148041</td>\n",
       "      <td>14072.081959</td>\n",
       "    </tr>\n",
       "    <tr>\n",
       "      <th>1</th>\n",
       "      <td>9909.78</td>\n",
       "      <td>8169.488541</td>\n",
       "      <td>1740.291459</td>\n",
       "    </tr>\n",
       "    <tr>\n",
       "      <th>2</th>\n",
       "      <td>29044.68</td>\n",
       "      <td>31319.485516</td>\n",
       "      <td>2274.805516</td>\n",
       "    </tr>\n",
       "    <tr>\n",
       "      <th>3</th>\n",
       "      <td>82654.50</td>\n",
       "      <td>71788.248732</td>\n",
       "      <td>10866.251268</td>\n",
       "    </tr>\n",
       "    <tr>\n",
       "      <th>4</th>\n",
       "      <td>11520.04</td>\n",
       "      <td>11354.590266</td>\n",
       "      <td>165.449734</td>\n",
       "    </tr>\n",
       "  </tbody>\n",
       "</table>\n",
       "</div>"
      ],
      "text/plain": [
       "   expected     predicted    difference\n",
       "0  65086.23  51014.148041  14072.081959\n",
       "1   9909.78   8169.488541   1740.291459\n",
       "2  29044.68  31319.485516   2274.805516\n",
       "3  82654.50  71788.248732  10866.251268\n",
       "4  11520.04  11354.590266    165.449734"
      ]
     },
     "execution_count": 15,
     "metadata": {},
     "output_type": "execute_result"
    }
   ],
   "source": [
    "%%time\n",
    "res = memsql_conn.query(\n",
    "    ' '.join([\n",
    "        f'SELECT',\n",
    "        f'{prediction_column} AS expected,'\n",
    "        f'apply_trees({\", \".join(feature_columns)}) AS predicted,',\n",
    "        f'ABS({prediction_column} - apply_trees({\", \".join(feature_columns)})) AS difference',\n",
    "        f'FROM lineitem',\n",
    "        f'LIMIT 5'        \n",
    "    ])\n",
    ")\n",
    "\n",
    "print(\"5 random predictions:\")\n",
    "query_result_to_df(res).head()"
   ]
  },
  {
   "cell_type": "markdown",
   "metadata": {},
   "source": [
    "<h3> Get 5 best predictions</h3>"
   ]
  },
  {
   "cell_type": "code",
   "execution_count": 16,
   "metadata": {},
   "outputs": [
    {
     "name": "stdout",
     "output_type": "stream",
     "text": [
      "5 best predictions:\n",
      "CPU times: user 35.4 ms, sys: 4.96 ms, total: 40.3 ms\n",
      "Wall time: 13min 14s\n"
     ]
    },
    {
     "data": {
      "text/html": [
       "<div>\n",
       "<style scoped>\n",
       "    .dataframe tbody tr th:only-of-type {\n",
       "        vertical-align: middle;\n",
       "    }\n",
       "\n",
       "    .dataframe tbody tr th {\n",
       "        vertical-align: top;\n",
       "    }\n",
       "\n",
       "    .dataframe thead th {\n",
       "        text-align: right;\n",
       "    }\n",
       "</style>\n",
       "<table border=\"1\" class=\"dataframe\">\n",
       "  <thead>\n",
       "    <tr style=\"text-align: right;\">\n",
       "      <th></th>\n",
       "      <th>expected</th>\n",
       "      <th>predicted</th>\n",
       "      <th>difference</th>\n",
       "    </tr>\n",
       "  </thead>\n",
       "  <tbody>\n",
       "    <tr>\n",
       "      <th>0</th>\n",
       "      <td>1831.95</td>\n",
       "      <td>1831.949999</td>\n",
       "      <td>0.000001</td>\n",
       "    </tr>\n",
       "    <tr>\n",
       "      <th>1</th>\n",
       "      <td>43967.77</td>\n",
       "      <td>43967.770008</td>\n",
       "      <td>0.000008</td>\n",
       "    </tr>\n",
       "    <tr>\n",
       "      <th>2</th>\n",
       "      <td>47588.41</td>\n",
       "      <td>47588.410012</td>\n",
       "      <td>0.000012</td>\n",
       "    </tr>\n",
       "    <tr>\n",
       "      <th>3</th>\n",
       "      <td>63443.40</td>\n",
       "      <td>63443.400013</td>\n",
       "      <td>0.000013</td>\n",
       "    </tr>\n",
       "    <tr>\n",
       "      <th>4</th>\n",
       "      <td>29410.00</td>\n",
       "      <td>29410.000038</td>\n",
       "      <td>0.000038</td>\n",
       "    </tr>\n",
       "  </tbody>\n",
       "</table>\n",
       "</div>"
      ],
      "text/plain": [
       "   expected     predicted  difference\n",
       "0   1831.95   1831.949999    0.000001\n",
       "1  43967.77  43967.770008    0.000008\n",
       "2  47588.41  47588.410012    0.000012\n",
       "3  63443.40  63443.400013    0.000013\n",
       "4  29410.00  29410.000038    0.000038"
      ]
     },
     "execution_count": 16,
     "metadata": {},
     "output_type": "execute_result"
    }
   ],
   "source": [
    "%%time\n",
    "res = memsql_conn.query(\n",
    "    ' '.join([\n",
    "        f'SELECT',\n",
    "        f'{prediction_column} AS expected,'\n",
    "        f'apply_trees({\", \".join(feature_columns)}) AS predicted,',\n",
    "        f'ABS({prediction_column} - apply_trees({\", \".join(feature_columns)})) AS difference',\n",
    "        f'FROM lineitem',\n",
    "        f'ORDER BY difference ASC',\n",
    "        f'LIMIT 5'        \n",
    "    ])\n",
    ")\n",
    "\n",
    "print(\"5 best predictions:\")\n",
    "query_result_to_df(res).head()"
   ]
  },
  {
   "cell_type": "markdown",
   "metadata": {},
   "source": [
    "<h3> Get 5 worst predictions</h3>"
   ]
  },
  {
   "cell_type": "code",
   "execution_count": 17,
   "metadata": {},
   "outputs": [
    {
     "name": "stdout",
     "output_type": "stream",
     "text": [
      "5 worst predictions:\n",
      "CPU times: user 36.8 ms, sys: 671 µs, total: 37.5 ms\n",
      "Wall time: 12min 3s\n"
     ]
    },
    {
     "data": {
      "text/html": [
       "<div>\n",
       "<style scoped>\n",
       "    .dataframe tbody tr th:only-of-type {\n",
       "        vertical-align: middle;\n",
       "    }\n",
       "\n",
       "    .dataframe tbody tr th {\n",
       "        vertical-align: top;\n",
       "    }\n",
       "\n",
       "    .dataframe thead th {\n",
       "        text-align: right;\n",
       "    }\n",
       "</style>\n",
       "<table border=\"1\" class=\"dataframe\">\n",
       "  <thead>\n",
       "    <tr style=\"text-align: right;\">\n",
       "      <th></th>\n",
       "      <th>expected</th>\n",
       "      <th>predicted</th>\n",
       "      <th>difference</th>\n",
       "    </tr>\n",
       "  </thead>\n",
       "  <tbody>\n",
       "    <tr>\n",
       "      <th>0</th>\n",
       "      <td>102250.50</td>\n",
       "      <td>43836.088301</td>\n",
       "      <td>58414.411699</td>\n",
       "    </tr>\n",
       "    <tr>\n",
       "      <th>1</th>\n",
       "      <td>101970.00</td>\n",
       "      <td>44940.312008</td>\n",
       "      <td>57029.687992</td>\n",
       "    </tr>\n",
       "    <tr>\n",
       "      <th>2</th>\n",
       "      <td>101219.50</td>\n",
       "      <td>44425.953623</td>\n",
       "      <td>56793.546377</td>\n",
       "    </tr>\n",
       "    <tr>\n",
       "      <th>3</th>\n",
       "      <td>101299.50</td>\n",
       "      <td>45150.427655</td>\n",
       "      <td>56149.072345</td>\n",
       "    </tr>\n",
       "    <tr>\n",
       "      <th>4</th>\n",
       "      <td>101049.50</td>\n",
       "      <td>45150.427655</td>\n",
       "      <td>55899.072345</td>\n",
       "    </tr>\n",
       "  </tbody>\n",
       "</table>\n",
       "</div>"
      ],
      "text/plain": [
       "    expected     predicted    difference\n",
       "0  102250.50  43836.088301  58414.411699\n",
       "1  101970.00  44940.312008  57029.687992\n",
       "2  101219.50  44425.953623  56793.546377\n",
       "3  101299.50  45150.427655  56149.072345\n",
       "4  101049.50  45150.427655  55899.072345"
      ]
     },
     "execution_count": 17,
     "metadata": {},
     "output_type": "execute_result"
    }
   ],
   "source": [
    "%%time\n",
    "res = memsql_conn.query(\n",
    "    ' '.join([\n",
    "        f'SELECT',\n",
    "        f'{prediction_column} AS expected,'\n",
    "        f'apply_trees({\", \".join(feature_columns)}) AS predicted,',\n",
    "        f'ABS({prediction_column} - apply_trees({\", \".join(feature_columns)})) AS difference',\n",
    "        f'FROM lineitem',\n",
    "        f'ORDER BY difference DESC',\n",
    "        f'LIMIT 5'        \n",
    "    ])\n",
    ")\n",
    "\n",
    "print(\"5 worst predictions:\")\n",
    "query_result_to_df(res).head()"
   ]
  }
 ],
 "metadata": {
  "kernelspec": {
   "display_name": "Python 3",
   "language": "python",
   "name": "python3"
  },
  "language_info": {
   "codemirror_mode": {
    "name": "ipython",
    "version": 3
   },
   "file_extension": ".py",
   "mimetype": "text/x-python",
   "name": "python",
   "nbconvert_exporter": "python",
   "pygments_lexer": "ipython3",
   "version": "3.7.3"
  }
 },
 "nbformat": 4,
 "nbformat_minor": 4
}
