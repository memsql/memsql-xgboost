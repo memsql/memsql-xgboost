{
 "cells": [
  {
   "cell_type": "markdown",
   "metadata": {},
   "source": [
    "# Description"
   ]
  },
  {
   "cell_type": "markdown",
   "metadata": {},
   "source": [
    "<h3>In this demo we will train a xgboost model on part of TPC-H dataset and will deploy it as a UDF (user-defined function). Then we will avaluate several queries with deployed UDF in this huge dataset.</h3>"
   ]
  },
  {
   "cell_type": "markdown",
   "metadata": {},
   "source": [
    "<blockquote>\n",
    "<h3>ATTENTION: for this demo it is recomended to have a cluster with more then 100 GB of Disk space and 10 GB of Memory space</h3>\n",
    "</blockquote>"
   ]
  },
  {
   "cell_type": "code",
   "execution_count": 1,
   "metadata": {},
   "outputs": [],
   "source": [
    "import time\n",
    "import xgboost\n",
    "import numpy as np\n",
    "import pandas as pd\n",
    "from lib import memsql_udf\n",
    "from memsql.common import database\n",
    "from IPython.display import clear_output"
   ]
  },
  {
   "cell_type": "markdown",
   "metadata": {},
   "source": [
    "# Connecting to MemSQL"
   ]
  },
  {
   "cell_type": "markdown",
   "metadata": {},
   "source": [
    "<h3>Please, enter your credentials into the cell below</h3>"
   ]
  },
  {
   "cell_type": "code",
   "execution_count": 2,
   "metadata": {},
   "outputs": [],
   "source": [
    "memsql_host=\"<your_memsql_host>\"\n",
    "memsql_port=3306\n",
    "memsql_user=\"root\"\n",
    "memsql_password=\"\""
   ]
  },
  {
   "cell_type": "code",
   "execution_count": 3,
   "metadata": {},
   "outputs": [],
   "source": [
    "memsql_conn = database.connect(\n",
    "    host=memsql_host, port=memsql_port, \n",
    "    user=memsql_user, password=memsql_password)"
   ]
  },
  {
   "cell_type": "markdown",
   "metadata": {},
   "source": [
    "# Exporting Data from S3 to MemSQL using pipelines"
   ]
  },
  {
   "cell_type": "code",
   "execution_count": 4,
   "metadata": {},
   "outputs": [
    {
     "data": {
      "text/plain": [
       "0"
      ]
     },
     "execution_count": 4,
     "metadata": {},
     "output_type": "execute_result"
    }
   ],
   "source": [
    "memsql_conn.query('DROP DATABASE IF EXISTS tpch')\n",
    "memsql_conn.query('CREATE DATABASE tpch')\n",
    "memsql_conn.query('USE tpch')\n",
    "memsql_conn.query(\n",
    "    '''\n",
    "    CREATE TABLE `lineitem` (\n",
    "    `l_orderkey` bigint(11) NOT NULL,\n",
    "    `l_partkey` int(11) NOT NULL,\n",
    "    `l_suppkey` int(11) NOT NULL,\n",
    "    `l_linenumber` int(11) NOT NULL,\n",
    "    `l_quantity` decimal(15,2) NOT NULL,\n",
    "    `l_extendedprice` decimal(15,2) NOT NULL,\n",
    "    `l_discount` decimal(15,2) NOT NULL,\n",
    "    `l_tax` decimal(15,2) NOT NULL,\n",
    "    `l_returnflag` char(1) CHARACTER SET utf8 COLLATE utf8_general_ci NOT NULL,\n",
    "    `l_linestatus` char(1) CHARACTER SET utf8 COLLATE utf8_general_ci NOT NULL,\n",
    "    `l_shipdate` date NOT NULL,\n",
    "    `l_commitdate` date NOT NULL,\n",
    "    `l_receiptdate` date NOT NULL,\n",
    "    `l_shipinstruct` char(25) CHARACTER SET utf8 COLLATE utf8_general_ci NOT NULL,\n",
    "    `l_shipmode` char(10) CHARACTER SET utf8 COLLATE utf8_general_ci NOT NULL,\n",
    "    `l_comment` varchar(44) CHARACTER SET utf8 COLLATE utf8_general_ci NOT NULL,\n",
    "    SHARD KEY (`l_orderkey`) USING CLUSTERED COLUMNSTORE\n",
    "    )\n",
    "    '''\n",
    ")\n",
    "memsql_conn.query(\n",
    "    '''\n",
    "    CREATE OR REPLACE PIPELINE tpch_100_lineitem\n",
    "        AS LOAD DATA S3 'memsql-tpch-dataset/sf_100/lineitem/'\n",
    "        config '{\"region\":\"us-east-1\"}'\n",
    "        SKIP DUPLICATE KEY ERRORS\n",
    "        INTO TABLE lineitem\n",
    "        FIELDS TERMINATED BY '|'\n",
    "        LINES TERMINATED BY '|\\n';\n",
    "    '''\n",
    ")\n",
    "memsql_conn.query(\"START ALL PIPELINES\")"
   ]
  },
  {
   "cell_type": "markdown",
   "metadata": {},
   "source": [
    "<h3> Wait while all data will be loaded. With Free Trial cluster, started in <a href=\"https://www.memsql.com/helios/\" >Helios</a> this process takes around 7 minutes.</h3>"
   ]
  },
  {
   "cell_type": "code",
   "execution_count": 5,
   "metadata": {},
   "outputs": [
    {
     "name": "stdout",
     "output_type": "stream",
     "text": [
      "loaded 538837902 rows out of 538837902\n",
      "CPU times: user 1.62 s, sys: 311 ms, total: 1.94 s\n",
      "Wall time: 7min 27s\n"
     ]
    }
   ],
   "source": [
    "%%time\n",
    "loaded_rows = 0\n",
    "all_rows = 538837902\n",
    "while(loaded_rows != all_rows):\n",
    "    clear_output(wait=True)\n",
    "    print(f'loaded {loaded_rows} rows out of {all_rows}')\n",
    "    loaded_rows = memsql_conn.query(\"SELECT COUNT(*) AS size FROM lineitem\")[0][\"size\"] \n",
    "    time.sleep(1)\n",
    "\n",
    "clear_output(wait=True)\n",
    "print(f'loaded {loaded_rows} rows out of {all_rows}')"
   ]
  },
  {
   "cell_type": "markdown",
   "metadata": {},
   "source": [
    "# Load small part of data from MemSQL and prepare it for training"
   ]
  },
  {
   "cell_type": "code",
   "execution_count": 6,
   "metadata": {},
   "outputs": [],
   "source": [
    "feature_columns = ['l_partkey','l_suppkey','l_quantity','l_discount','l_tax']\n",
    "prediction_column = 'l_extendedprice'\n",
    "all_columns = np.append(feature_columns, prediction_column)"
   ]
  },
  {
   "cell_type": "code",
   "execution_count": 7,
   "metadata": {},
   "outputs": [],
   "source": [
    "all_data = memsql_conn.query(f'SELECT {\", \".join(all_columns)} FROM lineitem LIMIT 50000')"
   ]
  },
  {
   "cell_type": "code",
   "execution_count": 8,
   "metadata": {},
   "outputs": [
    {
     "data": {
      "text/html": [
       "<div>\n",
       "<style scoped>\n",
       "    .dataframe tbody tr th:only-of-type {\n",
       "        vertical-align: middle;\n",
       "    }\n",
       "\n",
       "    .dataframe tbody tr th {\n",
       "        vertical-align: top;\n",
       "    }\n",
       "\n",
       "    .dataframe thead th {\n",
       "        text-align: right;\n",
       "    }\n",
       "</style>\n",
       "<table border=\"1\" class=\"dataframe\">\n",
       "  <thead>\n",
       "    <tr style=\"text-align: right;\">\n",
       "      <th></th>\n",
       "      <th>l_partkey</th>\n",
       "      <th>l_suppkey</th>\n",
       "      <th>l_quantity</th>\n",
       "      <th>l_discount</th>\n",
       "      <th>l_tax</th>\n",
       "      <th>l_extendedprice</th>\n",
       "    </tr>\n",
       "  </thead>\n",
       "  <tbody>\n",
       "    <tr>\n",
       "      <th>0</th>\n",
       "      <td>19838880</td>\n",
       "      <td>338919</td>\n",
       "      <td>20.00</td>\n",
       "      <td>0.02</td>\n",
       "      <td>0.05</td>\n",
       "      <td>36357.80</td>\n",
       "    </tr>\n",
       "    <tr>\n",
       "      <th>1</th>\n",
       "      <td>12040392</td>\n",
       "      <td>290405</td>\n",
       "      <td>6.00</td>\n",
       "      <td>0.07</td>\n",
       "      <td>0.06</td>\n",
       "      <td>7990.74</td>\n",
       "    </tr>\n",
       "    <tr>\n",
       "      <th>2</th>\n",
       "      <td>2859395</td>\n",
       "      <td>859396</td>\n",
       "      <td>45.00</td>\n",
       "      <td>0.10</td>\n",
       "      <td>0.02</td>\n",
       "      <td>60941.25</td>\n",
       "    </tr>\n",
       "    <tr>\n",
       "      <th>3</th>\n",
       "      <td>889603</td>\n",
       "      <td>139604</td>\n",
       "      <td>6.00</td>\n",
       "      <td>0.06</td>\n",
       "      <td>0.01</td>\n",
       "      <td>9555.36</td>\n",
       "    </tr>\n",
       "    <tr>\n",
       "      <th>4</th>\n",
       "      <td>11547018</td>\n",
       "      <td>297052</td>\n",
       "      <td>35.00</td>\n",
       "      <td>0.09</td>\n",
       "      <td>0.06</td>\n",
       "      <td>37255.40</td>\n",
       "    </tr>\n",
       "  </tbody>\n",
       "</table>\n",
       "</div>"
      ],
      "text/plain": [
       "   l_partkey  l_suppkey l_quantity l_discount l_tax l_extendedprice\n",
       "0   19838880     338919      20.00       0.02  0.05        36357.80\n",
       "1   12040392     290405       6.00       0.07  0.06         7990.74\n",
       "2    2859395     859396      45.00       0.10  0.02        60941.25\n",
       "3     889603     139604       6.00       0.06  0.01         9555.36\n",
       "4   11547018     297052      35.00       0.09  0.06        37255.40"
      ]
     },
     "execution_count": 8,
     "metadata": {},
     "output_type": "execute_result"
    }
   ],
   "source": [
    "all_data_df = pd.DataFrame([dict(r) for r in all_data])\n",
    "all_data_df.head()"
   ]
  },
  {
   "cell_type": "code",
   "execution_count": 9,
   "metadata": {},
   "outputs": [],
   "source": [
    "train_data=all_data_df.sample(frac=0.8, random_state=200) #random state is a seed value\n",
    "test_data=all_data_df.drop(train_data.index)"
   ]
  },
  {
   "cell_type": "code",
   "execution_count": 10,
   "metadata": {},
   "outputs": [
    {
     "name": "stdout",
     "output_type": "stream",
     "text": [
      "number of rows in train set: 40000\n",
      "number of rows in  test set: 10000\n"
     ]
    }
   ],
   "source": [
    "print(\"number of rows in train set:\", len(train_data.index))\n",
    "print(\"number of rows in  test set:\", len( test_data.index))"
   ]
  },
  {
   "cell_type": "code",
   "execution_count": 11,
   "metadata": {},
   "outputs": [],
   "source": [
    "X_train = train_data.drop([prediction_column], axis=1).to_numpy()\n",
    "y_train = train_data[prediction_column].to_numpy()\n",
    "X_test = test_data.drop([prediction_column], axis=1).to_numpy()\n",
    "y_test = test_data[prediction_column].to_numpy()"
   ]
  },
  {
   "cell_type": "markdown",
   "metadata": {},
   "source": [
    "# Actually Training Model"
   ]
  },
  {
   "cell_type": "code",
   "execution_count": 12,
   "metadata": {},
   "outputs": [],
   "source": [
    "rgr = xgboost.XGBRegressor()\n",
    "rgr.fit(X_train, y_train, eval_set=[(X_test, y_test)], eval_metric='error', verbose=0)\n",
    "booster = rgr.get_booster()\n",
    "booster.feature_names = feature_columns"
   ]
  },
  {
   "cell_type": "markdown",
   "metadata": {},
   "source": [
    "# Deploying Model to MemSQL"
   ]
  },
  {
   "cell_type": "code",
   "execution_count": 13,
   "metadata": {},
   "outputs": [],
   "source": [
    "memsql_udf.upload_xgb_to_memsql(\n",
    "    booster,\n",
    "    feature_columns,\n",
    "    memsql_conn,\n",
    "    memsql_udf.F.SUM\n",
    ")"
   ]
  },
  {
   "cell_type": "markdown",
   "metadata": {},
   "source": [
    "# Advanture time"
   ]
  },
  {
   "cell_type": "markdown",
   "metadata": {},
   "source": [
    "<h3> Lets try some interesting queries. <a href=\"https://en.wikipedia.org/wiki/Mean_squared_error\"> MSE </a> is a perfect choice for the begining. This query will compute UDF on more then $5*10^8$ rows and then compute MSE.</h3>"
   ]
  },
  {
   "cell_type": "code",
   "execution_count": 14,
   "metadata": {},
   "outputs": [
    {
     "name": "stdout",
     "output_type": "stream",
     "text": [
      "CPU times: user 36.5 ms, sys: 0 ns, total: 36.5 ms\n",
      "Wall time: 13min 27s\n"
     ]
    },
    {
     "data": {
      "text/html": [
       "<div>\n",
       "<style scoped>\n",
       "    .dataframe tbody tr th:only-of-type {\n",
       "        vertical-align: middle;\n",
       "    }\n",
       "\n",
       "    .dataframe tbody tr th {\n",
       "        vertical-align: top;\n",
       "    }\n",
       "\n",
       "    .dataframe thead th {\n",
       "        text-align: right;\n",
       "    }\n",
       "</style>\n",
       "<table border=\"1\" class=\"dataframe\">\n",
       "  <thead>\n",
       "    <tr style=\"text-align: right;\">\n",
       "      <th></th>\n",
       "      <th>MSE</th>\n",
       "    </tr>\n",
       "  </thead>\n",
       "  <tbody>\n",
       "    <tr>\n",
       "      <th>0</th>\n",
       "      <td>7.067784e+07</td>\n",
       "    </tr>\n",
       "  </tbody>\n",
       "</table>\n",
       "</div>"
      ],
      "text/plain": [
       "            MSE\n",
       "0  7.067784e+07"
      ]
     },
     "execution_count": 14,
     "metadata": {},
     "output_type": "execute_result"
    }
   ],
   "source": [
    "%%time\n",
    "res = memsql_conn.query(\n",
    "    ' '.join([\n",
    "        f'SELECT',\n",
    "        f'AVG(POW({prediction_column}-apply_trees({\", \".join(feature_columns)}), 2)) AS MSE',\n",
    "        f'FROM lineitem'    \n",
    "    ])\n",
    ")\n",
    "\n",
    "pd.DataFrame([dict(r) for r in res]).head()"
   ]
  },
  {
   "cell_type": "markdown",
   "metadata": {},
   "source": [
    "<h3>Get predictions for 5 rows</h3>"
   ]
  },
  {
   "cell_type": "code",
   "execution_count": 15,
   "metadata": {},
   "outputs": [
    {
     "name": "stdout",
     "output_type": "stream",
     "text": [
      "5 random predictions:\n",
      "CPU times: user 4.65 ms, sys: 0 ns, total: 4.65 ms\n",
      "Wall time: 1.33 s\n"
     ]
    },
    {
     "data": {
      "text/html": [
       "<div>\n",
       "<style scoped>\n",
       "    .dataframe tbody tr th:only-of-type {\n",
       "        vertical-align: middle;\n",
       "    }\n",
       "\n",
       "    .dataframe tbody tr th {\n",
       "        vertical-align: top;\n",
       "    }\n",
       "\n",
       "    .dataframe thead th {\n",
       "        text-align: right;\n",
       "    }\n",
       "</style>\n",
       "<table border=\"1\" class=\"dataframe\">\n",
       "  <thead>\n",
       "    <tr style=\"text-align: right;\">\n",
       "      <th></th>\n",
       "      <th>expected</th>\n",
       "      <th>predicted</th>\n",
       "      <th>difference</th>\n",
       "    </tr>\n",
       "  </thead>\n",
       "  <tbody>\n",
       "    <tr>\n",
       "      <th>0</th>\n",
       "      <td>41011.68</td>\n",
       "      <td>37014.382433</td>\n",
       "      <td>3997.297567</td>\n",
       "    </tr>\n",
       "    <tr>\n",
       "      <th>1</th>\n",
       "      <td>61766.91</td>\n",
       "      <td>58528.971212</td>\n",
       "      <td>3237.938788</td>\n",
       "    </tr>\n",
       "    <tr>\n",
       "      <th>2</th>\n",
       "      <td>10635.24</td>\n",
       "      <td>10472.833689</td>\n",
       "      <td>162.406311</td>\n",
       "    </tr>\n",
       "    <tr>\n",
       "      <th>3</th>\n",
       "      <td>28992.30</td>\n",
       "      <td>23267.054987</td>\n",
       "      <td>5725.245013</td>\n",
       "    </tr>\n",
       "    <tr>\n",
       "      <th>4</th>\n",
       "      <td>65913.30</td>\n",
       "      <td>68743.335746</td>\n",
       "      <td>2830.035746</td>\n",
       "    </tr>\n",
       "  </tbody>\n",
       "</table>\n",
       "</div>"
      ],
      "text/plain": [
       "   expected     predicted   difference\n",
       "0  41011.68  37014.382433  3997.297567\n",
       "1  61766.91  58528.971212  3237.938788\n",
       "2  10635.24  10472.833689   162.406311\n",
       "3  28992.30  23267.054987  5725.245013\n",
       "4  65913.30  68743.335746  2830.035746"
      ]
     },
     "execution_count": 15,
     "metadata": {},
     "output_type": "execute_result"
    }
   ],
   "source": [
    "%%time\n",
    "res = memsql_conn.query(\n",
    "    ' '.join([\n",
    "        f'SELECT',\n",
    "        f'{prediction_column} AS expected,'\n",
    "        f'apply_trees({\", \".join(feature_columns)}) AS predicted,',\n",
    "        f'ABS({prediction_column} - apply_trees({\", \".join(feature_columns)})) AS difference',\n",
    "        f'FROM lineitem',\n",
    "        f'LIMIT 5'        \n",
    "    ])\n",
    ")\n",
    "\n",
    "print(\"5 random predictions:\")\n",
    "pd.DataFrame([dict(r) for r in res]).head()"
   ]
  },
  {
   "cell_type": "markdown",
   "metadata": {},
   "source": [
    "<h3> Get 5 best predictions</h3>"
   ]
  },
  {
   "cell_type": "code",
   "execution_count": 16,
   "metadata": {},
   "outputs": [
    {
     "name": "stdout",
     "output_type": "stream",
     "text": [
      "5 best predictions:\n",
      "CPU times: user 33 ms, sys: 0 ns, total: 33 ms\n",
      "Wall time: 11min 52s\n"
     ]
    },
    {
     "data": {
      "text/html": [
       "<div>\n",
       "<style scoped>\n",
       "    .dataframe tbody tr th:only-of-type {\n",
       "        vertical-align: middle;\n",
       "    }\n",
       "\n",
       "    .dataframe tbody tr th {\n",
       "        vertical-align: top;\n",
       "    }\n",
       "\n",
       "    .dataframe thead th {\n",
       "        text-align: right;\n",
       "    }\n",
       "</style>\n",
       "<table border=\"1\" class=\"dataframe\">\n",
       "  <thead>\n",
       "    <tr style=\"text-align: right;\">\n",
       "      <th></th>\n",
       "      <th>expected</th>\n",
       "      <th>predicted</th>\n",
       "      <th>difference</th>\n",
       "    </tr>\n",
       "  </thead>\n",
       "  <tbody>\n",
       "    <tr>\n",
       "      <th>0</th>\n",
       "      <td>60189.23</td>\n",
       "      <td>60189.230017</td>\n",
       "      <td>0.000017</td>\n",
       "    </tr>\n",
       "    <tr>\n",
       "      <th>1</th>\n",
       "      <td>48709.12</td>\n",
       "      <td>48709.120017</td>\n",
       "      <td>0.000017</td>\n",
       "    </tr>\n",
       "    <tr>\n",
       "      <th>2</th>\n",
       "      <td>3150.14</td>\n",
       "      <td>3150.140036</td>\n",
       "      <td>0.000036</td>\n",
       "    </tr>\n",
       "    <tr>\n",
       "      <th>3</th>\n",
       "      <td>14630.94</td>\n",
       "      <td>14630.940038</td>\n",
       "      <td>0.000038</td>\n",
       "    </tr>\n",
       "    <tr>\n",
       "      <th>4</th>\n",
       "      <td>21339.60</td>\n",
       "      <td>21339.600058</td>\n",
       "      <td>0.000058</td>\n",
       "    </tr>\n",
       "  </tbody>\n",
       "</table>\n",
       "</div>"
      ],
      "text/plain": [
       "   expected     predicted  difference\n",
       "0  60189.23  60189.230017    0.000017\n",
       "1  48709.12  48709.120017    0.000017\n",
       "2   3150.14   3150.140036    0.000036\n",
       "3  14630.94  14630.940038    0.000038\n",
       "4  21339.60  21339.600058    0.000058"
      ]
     },
     "execution_count": 16,
     "metadata": {},
     "output_type": "execute_result"
    }
   ],
   "source": [
    "%%time\n",
    "res = memsql_conn.query(\n",
    "    ' '.join([\n",
    "        f'SELECT',\n",
    "        f'{prediction_column} AS expected,'\n",
    "        f'apply_trees({\", \".join(feature_columns)}) AS predicted,',\n",
    "        f'ABS({prediction_column} - apply_trees({\", \".join(feature_columns)})) AS difference',\n",
    "        f'FROM lineitem',\n",
    "        f'ORDER BY difference ASC',\n",
    "        f'LIMIT 5'        \n",
    "    ])\n",
    ")\n",
    "\n",
    "print(\"5 best predictions:\")\n",
    "pd.DataFrame([dict(r) for r in res]).head()"
   ]
  },
  {
   "cell_type": "markdown",
   "metadata": {},
   "source": [
    "<h3> Get 5 worst predictions</h3>"
   ]
  },
  {
   "cell_type": "code",
   "execution_count": 17,
   "metadata": {},
   "outputs": [
    {
     "name": "stdout",
     "output_type": "stream",
     "text": [
      "5 worst predictions:\n",
      "CPU times: user 30.5 ms, sys: 0 ns, total: 30.5 ms\n",
      "Wall time: 11min 3s\n"
     ]
    },
    {
     "data": {
      "text/html": [
       "<div>\n",
       "<style scoped>\n",
       "    .dataframe tbody tr th:only-of-type {\n",
       "        vertical-align: middle;\n",
       "    }\n",
       "\n",
       "    .dataframe tbody tr th {\n",
       "        vertical-align: top;\n",
       "    }\n",
       "\n",
       "    .dataframe thead th {\n",
       "        text-align: right;\n",
       "    }\n",
       "</style>\n",
       "<table border=\"1\" class=\"dataframe\">\n",
       "  <thead>\n",
       "    <tr style=\"text-align: right;\">\n",
       "      <th></th>\n",
       "      <th>expected</th>\n",
       "      <th>predicted</th>\n",
       "      <th>difference</th>\n",
       "    </tr>\n",
       "  </thead>\n",
       "  <tbody>\n",
       "    <tr>\n",
       "      <th>0</th>\n",
       "      <td>45750.00</td>\n",
       "      <td>95231.459465</td>\n",
       "      <td>49481.459465</td>\n",
       "    </tr>\n",
       "    <tr>\n",
       "      <th>1</th>\n",
       "      <td>45887.50</td>\n",
       "      <td>95358.313104</td>\n",
       "      <td>49470.813104</td>\n",
       "    </tr>\n",
       "    <tr>\n",
       "      <th>2</th>\n",
       "      <td>46388.00</td>\n",
       "      <td>95792.007956</td>\n",
       "      <td>49404.007956</td>\n",
       "    </tr>\n",
       "    <tr>\n",
       "      <th>3</th>\n",
       "      <td>45855.00</td>\n",
       "      <td>94914.720181</td>\n",
       "      <td>49059.720181</td>\n",
       "    </tr>\n",
       "    <tr>\n",
       "      <th>4</th>\n",
       "      <td>45987.50</td>\n",
       "      <td>94983.778559</td>\n",
       "      <td>48996.278559</td>\n",
       "    </tr>\n",
       "  </tbody>\n",
       "</table>\n",
       "</div>"
      ],
      "text/plain": [
       "   expected     predicted    difference\n",
       "0  45750.00  95231.459465  49481.459465\n",
       "1  45887.50  95358.313104  49470.813104\n",
       "2  46388.00  95792.007956  49404.007956\n",
       "3  45855.00  94914.720181  49059.720181\n",
       "4  45987.50  94983.778559  48996.278559"
      ]
     },
     "execution_count": 17,
     "metadata": {},
     "output_type": "execute_result"
    }
   ],
   "source": [
    "%%time\n",
    "res = memsql_conn.query(\n",
    "    ' '.join([\n",
    "        f'SELECT',\n",
    "        f'{prediction_column} AS expected,'\n",
    "        f'apply_trees({\", \".join(feature_columns)}) AS predicted,',\n",
    "        f'ABS({prediction_column} - apply_trees({\", \".join(feature_columns)})) AS difference',\n",
    "        f'FROM lineitem',\n",
    "        f'ORDER BY difference DESC',\n",
    "        f'LIMIT 5'        \n",
    "    ])\n",
    ")\n",
    "\n",
    "print(\"5 worst predictions:\")\n",
    "pd.DataFrame([dict(r) for r in res]).head()"
   ]
  }
 ],
 "metadata": {
  "kernelspec": {
   "display_name": "Python 3",
   "language": "python",
   "name": "python3"
  },
  "language_info": {
   "codemirror_mode": {
    "name": "ipython",
    "version": 3
   },
   "file_extension": ".py",
   "mimetype": "text/x-python",
   "name": "python",
   "nbconvert_exporter": "python",
   "pygments_lexer": "ipython3",
   "version": "3.7.3"
  }
 },
 "nbformat": 4,
 "nbformat_minor": 4
}
